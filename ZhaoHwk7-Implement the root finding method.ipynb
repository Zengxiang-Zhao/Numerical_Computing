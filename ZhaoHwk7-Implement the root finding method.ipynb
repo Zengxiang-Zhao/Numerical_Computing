{
 "cells": [
  {
   "cell_type": "code",
   "execution_count": 1,
   "metadata": {},
   "outputs": [],
   "source": [
    "using GR\n",
    "using Roots"
   ]
  },
  {
   "cell_type": "code",
   "execution_count": 2,
   "metadata": {},
   "outputs": [
    {
     "data": {
      "text/plain": [
       "\"svg\""
      ]
     },
     "execution_count": 2,
     "metadata": {},
     "output_type": "execute_result"
    }
   ],
   "source": [
    "GR.inline()"
   ]
  },
  {
   "cell_type": "markdown",
   "metadata": {},
   "source": [
    "### 1. define the function "
   ]
  },
  {
   "cell_type": "code",
   "execution_count": 3,
   "metadata": {},
   "outputs": [
    {
     "data": {
      "text/plain": [
       "f (generic function with 1 method)"
      ]
     },
     "execution_count": 3,
     "metadata": {},
     "output_type": "execute_result"
    }
   ],
   "source": [
    "f(x) = x^3 -2*x^2 - x + 2"
   ]
  },
  {
   "cell_type": "markdown",
   "metadata": {},
   "source": [
    "### 2.using GR, show an inline plot of the function f in the interval [ -2, 3 ]"
   ]
  },
  {
   "cell_type": "code",
   "execution_count": 4,
   "metadata": {},
   "outputs": [
    {
     "data": {
      "text/plain": [
       "-2.0:0.0847457627118644:3.0"
      ]
     },
     "execution_count": 4,
     "metadata": {},
     "output_type": "execute_result"
    }
   ],
   "source": [
    "x = range(-2, stop = 3, length = 60)"
   ]
  },
  {
   "cell_type": "code",
   "execution_count": 5,
   "metadata": {},
   "outputs": [],
   "source": [
    "y = [f(i) for i in x];"
   ]
  },
  {
   "cell_type": "code",
   "execution_count": 6,
   "metadata": {},
   "outputs": [
    {
     "data": {
      "image/svg+xml": [
       "<?xml version=\"1.0\" encoding=\"utf-8\"?>\n",
       "<svg xmlns=\"http://www.w3.org/2000/svg\" xmlns:xlink=\"http://www.w3.org/1999/xlink\" width=\"614.5\" height=\"460.75\" viewBox=\"0 0 2458 1843\">\n",
       "<defs>\n",
       "  <clipPath id=\"clip1400\">\n",
       "    <rect x=\"307\" y=\"138\" width=\"1967\" height=\"1475\"/>\n",
       "  </clipPath>\n",
       "</defs>\n",
       "<defs>\n",
       "  <clipPath id=\"clip1401\">\n",
       "    <rect x=\"0\" y=\"0\" width=\"2458\" height=\"1843\"/>\n",
       "  </clipPath>\n",
       "</defs>\n",
       "<polyline clip-path=\"url(#clip1401)\" style=\"stroke:#ededed; stroke-width:4.301; stroke-opacity:1; fill:none\" points=\"\n",
       "  307.25,1612.62 2273.65,1612.62 \n",
       "  \"/>\n",
       "<polyline clip-path=\"url(#clip1401)\" style=\"stroke:#ededed; stroke-width:4.301; stroke-opacity:1; fill:none\" points=\"\n",
       "  307.25,1538.9 2273.65,1538.9 \n",
       "  \"/>\n",
       "<polyline clip-path=\"url(#clip1401)\" style=\"stroke:#cccccc; stroke-width:4.301; stroke-opacity:1; fill:none\" points=\"\n",
       "  307.25,1465.18 2273.65,1465.18 \n",
       "  \"/>\n",
       "<polyline clip-path=\"url(#clip1401)\" style=\"stroke:#ededed; stroke-width:4.301; stroke-opacity:1; fill:none\" points=\"\n",
       "  307.25,1391.46 2273.65,1391.46 \n",
       "  \"/>\n",
       "<polyline clip-path=\"url(#clip1401)\" style=\"stroke:#ededed; stroke-width:4.301; stroke-opacity:1; fill:none\" points=\"\n",
       "  307.25,1317.74 2273.65,1317.74 \n",
       "  \"/>\n",
       "<polyline clip-path=\"url(#clip1401)\" style=\"stroke:#ededed; stroke-width:4.301; stroke-opacity:1; fill:none\" points=\"\n",
       "  307.25,1244.02 2273.65,1244.02 \n",
       "  \"/>\n",
       "<polyline clip-path=\"url(#clip1401)\" style=\"stroke:#ededed; stroke-width:4.301; stroke-opacity:1; fill:none\" points=\"\n",
       "  307.25,1170.3 2273.65,1170.3 \n",
       "  \"/>\n",
       "<polyline clip-path=\"url(#clip1401)\" style=\"stroke:#cccccc; stroke-width:4.301; stroke-opacity:1; fill:none\" points=\"\n",
       "  307.25,1096.58 2273.65,1096.58 \n",
       "  \"/>\n",
       "<polyline clip-path=\"url(#clip1401)\" style=\"stroke:#ededed; stroke-width:4.301; stroke-opacity:1; fill:none\" points=\"\n",
       "  307.25,1022.86 2273.65,1022.86 \n",
       "  \"/>\n",
       "<polyline clip-path=\"url(#clip1401)\" style=\"stroke:#ededed; stroke-width:4.301; stroke-opacity:1; fill:none\" points=\"\n",
       "  307.25,949.145 2273.65,949.145 \n",
       "  \"/>\n",
       "<polyline clip-path=\"url(#clip1401)\" style=\"stroke:#ededed; stroke-width:4.301; stroke-opacity:1; fill:none\" points=\"\n",
       "  307.25,875.425 2273.65,875.425 \n",
       "  \"/>\n",
       "<polyline clip-path=\"url(#clip1401)\" style=\"stroke:#ededed; stroke-width:4.301; stroke-opacity:1; fill:none\" points=\"\n",
       "  307.25,801.705 2273.65,801.705 \n",
       "  \"/>\n",
       "<polyline clip-path=\"url(#clip1401)\" style=\"stroke:#cccccc; stroke-width:4.301; stroke-opacity:1; fill:none\" points=\"\n",
       "  307.25,727.985 2273.65,727.985 \n",
       "  \"/>\n",
       "<polyline clip-path=\"url(#clip1401)\" style=\"stroke:#ededed; stroke-width:4.301; stroke-opacity:1; fill:none\" points=\"\n",
       "  307.25,654.265 2273.65,654.265 \n",
       "  \"/>\n",
       "<polyline clip-path=\"url(#clip1401)\" style=\"stroke:#ededed; stroke-width:4.301; stroke-opacity:1; fill:none\" points=\"\n",
       "  307.25,580.545 2273.65,580.545 \n",
       "  \"/>\n",
       "<polyline clip-path=\"url(#clip1401)\" style=\"stroke:#ededed; stroke-width:4.301; stroke-opacity:1; fill:none\" points=\"\n",
       "  307.25,506.825 2273.65,506.825 \n",
       "  \"/>\n",
       "<polyline clip-path=\"url(#clip1401)\" style=\"stroke:#ededed; stroke-width:4.301; stroke-opacity:1; fill:none\" points=\"\n",
       "  307.25,433.105 2273.65,433.105 \n",
       "  \"/>\n",
       "<polyline clip-path=\"url(#clip1401)\" style=\"stroke:#cccccc; stroke-width:4.301; stroke-opacity:1; fill:none\" points=\"\n",
       "  307.25,359.385 2273.65,359.385 \n",
       "  \"/>\n",
       "<polyline clip-path=\"url(#clip1401)\" style=\"stroke:#ededed; stroke-width:4.301; stroke-opacity:1; fill:none\" points=\"\n",
       "  307.25,285.665 2273.65,285.665 \n",
       "  \"/>\n",
       "<polyline clip-path=\"url(#clip1401)\" style=\"stroke:#ededed; stroke-width:4.301; stroke-opacity:1; fill:none\" points=\"\n",
       "  307.25,211.945 2273.65,211.945 \n",
       "  \"/>\n",
       "<polyline clip-path=\"url(#clip1401)\" style=\"stroke:#ededed; stroke-width:4.301; stroke-opacity:1; fill:none\" points=\"\n",
       "  307.25,138.225 2273.65,138.225 \n",
       "  \"/>\n",
       "<polyline clip-path=\"url(#clip1401)\" style=\"stroke:#cccccc; stroke-width:4.301; stroke-opacity:1; fill:none\" points=\"\n",
       "  307.25,1612.62 307.25,138.225 \n",
       "  \"/>\n",
       "<polyline clip-path=\"url(#clip1401)\" style=\"stroke:#ededed; stroke-width:4.301; stroke-opacity:1; fill:none\" points=\"\n",
       "  464.562,1612.62 464.562,138.225 \n",
       "  \"/>\n",
       "<polyline clip-path=\"url(#clip1401)\" style=\"stroke:#ededed; stroke-width:4.301; stroke-opacity:1; fill:none\" points=\"\n",
       "  621.874,1612.62 621.874,138.225 \n",
       "  \"/>\n",
       "<polyline clip-path=\"url(#clip1401)\" style=\"stroke:#ededed; stroke-width:4.301; stroke-opacity:1; fill:none\" points=\"\n",
       "  779.186,1612.62 779.186,138.225 \n",
       "  \"/>\n",
       "<polyline clip-path=\"url(#clip1401)\" style=\"stroke:#ededed; stroke-width:4.301; stroke-opacity:1; fill:none\" points=\"\n",
       "  936.498,1612.62 936.498,138.225 \n",
       "  \"/>\n",
       "<polyline clip-path=\"url(#clip1401)\" style=\"stroke:#cccccc; stroke-width:4.301; stroke-opacity:1; fill:none\" points=\"\n",
       "  1093.81,1612.62 1093.81,138.225 \n",
       "  \"/>\n",
       "<polyline clip-path=\"url(#clip1401)\" style=\"stroke:#ededed; stroke-width:4.301; stroke-opacity:1; fill:none\" points=\"\n",
       "  1251.12,1612.62 1251.12,138.225 \n",
       "  \"/>\n",
       "<polyline clip-path=\"url(#clip1401)\" style=\"stroke:#ededed; stroke-width:4.301; stroke-opacity:1; fill:none\" points=\"\n",
       "  1408.43,1612.62 1408.43,138.225 \n",
       "  \"/>\n",
       "<polyline clip-path=\"url(#clip1401)\" style=\"stroke:#ededed; stroke-width:4.301; stroke-opacity:1; fill:none\" points=\"\n",
       "  1565.75,1612.62 1565.75,138.225 \n",
       "  \"/>\n",
       "<polyline clip-path=\"url(#clip1401)\" style=\"stroke:#ededed; stroke-width:4.301; stroke-opacity:1; fill:none\" points=\"\n",
       "  1723.06,1612.62 1723.06,138.225 \n",
       "  \"/>\n",
       "<polyline clip-path=\"url(#clip1401)\" style=\"stroke:#cccccc; stroke-width:4.301; stroke-opacity:1; fill:none\" points=\"\n",
       "  1880.37,1612.62 1880.37,138.225 \n",
       "  \"/>\n",
       "<polyline clip-path=\"url(#clip1401)\" style=\"stroke:#ededed; stroke-width:4.301; stroke-opacity:1; fill:none\" points=\"\n",
       "  2037.68,1612.62 2037.68,138.225 \n",
       "  \"/>\n",
       "<polyline clip-path=\"url(#clip1401)\" style=\"stroke:#ededed; stroke-width:4.301; stroke-opacity:1; fill:none\" points=\"\n",
       "  2194.99,1612.62 2194.99,138.225 \n",
       "  \"/>\n",
       "<g clip-path=\"url(#clip1401)\">\n",
       "<text style=\"fill:#000000; fill-opacity:1; font-family:Arial,Helvetica Neue,Helvetica,sans-serif; font-size:60px; text-anchor:start;\" transform=\"rotate(0, 184.305, 1482.66)\" x=\"184.305\" y=\"1482.66\">-</text>\n",
       "</g>\n",
       "<g clip-path=\"url(#clip1401)\">\n",
       "<text style=\"fill:#000000; fill-opacity:1; font-family:Arial,Helvetica Neue,Helvetica,sans-serif; font-size:60px; text-anchor:start;\" transform=\"rotate(0, 220.292, 1482.66)\" x=\"220.292\" y=\"1482.66\">10</text>\n",
       "</g>\n",
       "<g clip-path=\"url(#clip1401)\">\n",
       "<text style=\"fill:#000000; fill-opacity:1; font-family:Arial,Helvetica Neue,Helvetica,sans-serif; font-size:60px; text-anchor:start;\" transform=\"rotate(0, 218.567, 1114.06)\" x=\"218.567\" y=\"1114.06\">-</text>\n",
       "</g>\n",
       "<g clip-path=\"url(#clip1401)\">\n",
       "<text style=\"fill:#000000; fill-opacity:1; font-family:Arial,Helvetica Neue,Helvetica,sans-serif; font-size:60px; text-anchor:start;\" transform=\"rotate(0, 254.554, 1114.06)\" x=\"254.554\" y=\"1114.06\">5</text>\n",
       "</g>\n",
       "<g clip-path=\"url(#clip1401)\">\n",
       "<text style=\"fill:#000000; fill-opacity:1; font-family:Arial,Helvetica Neue,Helvetica,sans-serif; font-size:60px; text-anchor:start;\" transform=\"rotate(0, 254.554, 745.457)\" x=\"254.554\" y=\"745.457\">0</text>\n",
       "</g>\n",
       "<g clip-path=\"url(#clip1401)\">\n",
       "<text style=\"fill:#000000; fill-opacity:1; font-family:Arial,Helvetica Neue,Helvetica,sans-serif; font-size:60px; text-anchor:start;\" transform=\"rotate(0, 254.554, 376.857)\" x=\"254.554\" y=\"376.857\">5</text>\n",
       "</g>\n",
       "<polyline clip-path=\"url(#clip1401)\" style=\"stroke:#000000; stroke-width:4.301; stroke-opacity:1; fill:none\" points=\"\n",
       "  307.25,1612.62 307.25,1612.62 325.685,1612.62 307.25,1612.62 307.25,1538.9 325.685,1538.9 307.25,1538.9 307.25,1465.18 344.12,1465.18 307.25,1465.18 \n",
       "  307.25,1391.46 325.685,1391.46 307.25,1391.46 307.25,1317.74 325.685,1317.74 307.25,1317.74 307.25,1244.02 325.685,1244.02 307.25,1244.02 307.25,1170.3 \n",
       "  325.685,1170.3 307.25,1170.3 307.25,1096.58 344.12,1096.58 307.25,1096.58 307.25,1022.86 325.685,1022.86 307.25,1022.86 307.25,949.145 325.685,949.145 \n",
       "  307.25,949.145 307.25,875.425 325.685,875.425 307.25,875.425 307.25,801.705 325.685,801.705 307.25,801.705 307.25,727.985 344.12,727.985 307.25,727.985 \n",
       "  307.25,654.265 325.685,654.265 307.25,654.265 307.25,580.545 325.685,580.545 307.25,580.545 307.25,506.825 325.685,506.825 307.25,506.825 307.25,433.105 \n",
       "  325.685,433.105 307.25,433.105 307.25,359.385 344.12,359.385 307.25,359.385 307.25,285.665 325.685,285.665 307.25,285.665 307.25,211.945 325.685,211.945 \n",
       "  307.25,211.945 307.25,138.225 325.685,138.225 307.25,138.225 \n",
       "  \"/>\n",
       "<g clip-path=\"url(#clip1401)\">\n",
       "<text style=\"fill:#000000; fill-opacity:1; font-family:Arial,Helvetica Neue,Helvetica,sans-serif; font-size:60px; text-anchor:start;\" transform=\"rotate(0, 272.126, 1685.9)\" x=\"272.126\" y=\"1685.9\">-</text>\n",
       "</g>\n",
       "<g clip-path=\"url(#clip1401)\">\n",
       "<text style=\"fill:#000000; fill-opacity:1; font-family:Arial,Helvetica Neue,Helvetica,sans-serif; font-size:60px; text-anchor:start;\" transform=\"rotate(0, 308.113, 1685.9)\" x=\"308.113\" y=\"1685.9\">2</text>\n",
       "</g>\n",
       "<g clip-path=\"url(#clip1401)\">\n",
       "<text style=\"fill:#000000; fill-opacity:1; font-family:Arial,Helvetica Neue,Helvetica,sans-serif; font-size:60px; text-anchor:start;\" transform=\"rotate(0, 1076.68, 1685.9)\" x=\"1076.68\" y=\"1685.9\">0</text>\n",
       "</g>\n",
       "<g clip-path=\"url(#clip1401)\">\n",
       "<text style=\"fill:#000000; fill-opacity:1; font-family:Arial,Helvetica Neue,Helvetica,sans-serif; font-size:60px; text-anchor:start;\" transform=\"rotate(0, 1863.24, 1685.9)\" x=\"1863.24\" y=\"1685.9\">2</text>\n",
       "</g>\n",
       "<polyline clip-path=\"url(#clip1401)\" style=\"stroke:#000000; stroke-width:4.301; stroke-opacity:1; fill:none\" points=\"\n",
       "  307.25,1612.62 307.25,1612.62 307.25,1575.76 307.25,1612.62 464.562,1612.62 464.562,1594.19 464.562,1612.62 621.874,1612.62 621.874,1594.19 621.874,1612.62 \n",
       "  779.186,1612.62 779.186,1594.19 779.186,1612.62 936.498,1612.62 936.498,1594.19 936.498,1612.62 1093.81,1612.62 1093.81,1575.76 1093.81,1612.62 1251.12,1612.62 \n",
       "  1251.12,1594.19 1251.12,1612.62 1408.43,1612.62 1408.43,1594.19 1408.43,1612.62 1565.75,1612.62 1565.75,1594.19 1565.75,1612.62 1723.06,1612.62 1723.06,1594.19 \n",
       "  1723.06,1612.62 1880.37,1612.62 1880.37,1575.76 1880.37,1612.62 2037.68,1612.62 2037.68,1594.19 2037.68,1612.62 2194.99,1612.62 2194.99,1594.19 2194.99,1612.62 \n",
       "  2273.65,1612.62 \n",
       "  \"/>\n",
       "<polyline clip-path=\"url(#clip1401)\" style=\"stroke:#000000; stroke-width:4.301; stroke-opacity:1; fill:none\" points=\"\n",
       "  2273.65,1612.62 2273.65,1612.62 2255.22,1612.62 2273.65,1612.62 2273.65,1538.9 2255.22,1538.9 2273.65,1538.9 2273.65,1465.18 2236.78,1465.18 2273.65,1465.18 \n",
       "  2273.65,1391.46 2255.22,1391.46 2273.65,1391.46 2273.65,1317.74 2255.22,1317.74 2273.65,1317.74 2273.65,1244.02 2255.22,1244.02 2273.65,1244.02 2273.65,1170.3 \n",
       "  2255.22,1170.3 2273.65,1170.3 2273.65,1096.58 2236.78,1096.58 2273.65,1096.58 2273.65,1022.86 2255.22,1022.86 2273.65,1022.86 2273.65,949.145 2255.22,949.145 \n",
       "  2273.65,949.145 2273.65,875.425 2255.22,875.425 2273.65,875.425 2273.65,801.705 2255.22,801.705 2273.65,801.705 2273.65,727.985 2236.78,727.985 2273.65,727.985 \n",
       "  2273.65,654.265 2255.22,654.265 2273.65,654.265 2273.65,580.545 2255.22,580.545 2273.65,580.545 2273.65,506.825 2255.22,506.825 2273.65,506.825 2273.65,433.105 \n",
       "  2255.22,433.105 2273.65,433.105 2273.65,359.385 2236.78,359.385 2273.65,359.385 2273.65,285.665 2255.22,285.665 2273.65,285.665 2273.65,211.945 2255.22,211.945 \n",
       "  2273.65,211.945 2273.65,138.225 2255.22,138.225 2273.65,138.225 \n",
       "  \"/>\n",
       "<polyline clip-path=\"url(#clip1401)\" style=\"stroke:#000000; stroke-width:4.301; stroke-opacity:1; fill:none\" points=\"\n",
       "  307.25,138.225 307.25,138.225 307.25,175.085 307.25,138.225 464.562,138.225 464.562,156.655 464.562,138.225 621.874,138.225 621.874,156.655 621.874,138.225 \n",
       "  779.186,138.225 779.186,156.655 779.186,138.225 936.498,138.225 936.498,156.655 936.498,138.225 1093.81,138.225 1093.81,175.085 1093.81,138.225 1251.12,138.225 \n",
       "  1251.12,156.655 1251.12,138.225 1408.43,138.225 1408.43,156.655 1408.43,138.225 1565.75,138.225 1565.75,156.655 1565.75,138.225 1723.06,138.225 1723.06,156.655 \n",
       "  1723.06,138.225 1880.37,138.225 1880.37,175.085 1880.37,138.225 2037.68,138.225 2037.68,156.655 2037.68,138.225 2194.99,138.225 2194.99,156.655 2194.99,138.225 \n",
       "  2273.65,138.225 \n",
       "  \"/>\n",
       "<polyline clip-path=\"url(#clip1400)\" style=\"stroke:#00528a; stroke-width:4.301; stroke-opacity:1; fill:none\" points=\"\n",
       "  307.25,1612.62 340.579,1498.11 373.908,1391.8 407.236,1293.43 440.565,1202.72 473.894,1119.4 507.223,1043.2 540.552,973.866 573.881,911.115 607.209,854.682 \n",
       "  640.538,804.296 673.867,759.69 707.196,720.594 740.525,686.738 773.853,657.853 807.182,633.671 840.511,613.922 873.84,598.337 907.169,586.646 940.497,578.58 \n",
       "  973.826,573.871 1007.16,572.248 1040.48,573.444 1073.81,577.187 1107.14,583.211 1140.47,591.244 1173.8,601.018 1207.13,612.264 1240.46,624.712 1273.79,638.093 \n",
       "  1307.11,652.139 1340.44,666.579 1373.77,681.145 1407.1,695.568 1440.43,709.578 1473.76,722.905 1507.09,735.282 1540.42,746.438 1573.74,756.104 1607.07,764.012 \n",
       "  1640.4,769.891 1673.73,773.474 1707.06,774.489 1740.39,772.669 1773.72,767.745 1807.05,759.446 1840.38,747.504 1873.7,731.649 1907.03,711.613 1940.36,687.125 \n",
       "  1973.69,657.918 2007.02,623.721 2040.35,584.266 2073.68,539.283 2107.01,488.503 2140.33,431.656 2173.66,368.475 2206.99,298.688 2240.32,222.028 2273.65,138.225 \n",
       "  \n",
       "  \"/>\n",
       "</svg>\n"
      ],
      "text/plain": [
       "GR.SVG(UInt8[0x3c, 0x3f, 0x78, 0x6d, 0x6c, 0x20, 0x76, 0x65, 0x72, 0x73  …  0x2f, 0x3e, 0x0a, 0x3c, 0x2f, 0x73, 0x76, 0x67, 0x3e, 0x0a])"
      ]
     },
     "execution_count": 6,
     "metadata": {},
     "output_type": "execute_result"
    }
   ],
   "source": [
    "plot(x,y)"
   ]
  },
  {
   "cell_type": "markdown",
   "metadata": {},
   "source": [
    "### 3. visually guess the zeros (roots) of f in the interval [ -2, 3 ]"
   ]
  },
  {
   "cell_type": "code",
   "execution_count": 7,
   "metadata": {},
   "outputs": [
    {
     "data": {
      "text/plain": [
       "2-element Array{Float64,1}:\n",
       " 1.6\n",
       " 2.4"
      ]
     },
     "execution_count": 7,
     "metadata": {},
     "output_type": "execute_result"
    }
   ],
   "source": [
    "interval_1 = [-2,0]\n",
    "interval_2 = [0.8,1.2]\n",
    "interval_3 = [1.6,2.4]"
   ]
  },
  {
   "cell_type": "markdown",
   "metadata": {},
   "source": [
    "### 4. define the error function"
   ]
  },
  {
   "cell_type": "code",
   "execution_count": 8,
   "metadata": {},
   "outputs": [
    {
     "data": {
      "text/plain": [
       "error (generic function with 1 method)"
      ]
     },
     "execution_count": 8,
     "metadata": {},
     "output_type": "execute_result"
    }
   ],
   "source": [
    "function error(errstring)\n",
    "    println(errstring)\n",
    "    input = readline()\n",
    "    \n",
    "end"
   ]
  },
  {
   "cell_type": "markdown",
   "metadata": {},
   "source": [
    "### 5"
   ]
  },
  {
   "cell_type": "code",
   "execution_count": 9,
   "metadata": {},
   "outputs": [
    {
     "data": {
      "text/plain": [
       "rootsearch (generic function with 1 method)"
      ]
     },
     "execution_count": 9,
     "metadata": {},
     "output_type": "execute_result"
    }
   ],
   "source": [
    "function rootsearch(f,a,b,dx)\n",
    "    \"\"\"x1,x2 = rootsearch(f,a,b,dx).\n",
    "        Searches the interval (a,b) in increments dx for\n",
    "        the bounds (x1,x2) of the smallest root of f(x).\n",
    "        Returns x1 = x2 = None if no roots were detected\n",
    "    \"\"\"\n",
    "    x1 = a\n",
    "    f1 = f(a)\n",
    "    x2 = a+dx\n",
    "    f2 = f(x2)\n",
    "    \n",
    "    while sign(f1) == sign(f2)\n",
    "        if x1 ≥ b\n",
    "            return Nothing,Nothing\n",
    "        end\n",
    "        x1 = x2 ; f1 = f2\n",
    "        x2 = x1+dx; f2 = f(x2)\n",
    "    end\n",
    "    \n",
    "    return x1,x2\n",
    "end\n",
    "    "
   ]
  },
  {
   "cell_type": "markdown",
   "metadata": {},
   "source": [
    "### 6"
   ]
  },
  {
   "cell_type": "code",
   "execution_count": 10,
   "metadata": {},
   "outputs": [
    {
     "data": {
      "text/plain": [
       "bisection (generic function with 3 methods)"
      ]
     },
     "execution_count": 10,
     "metadata": {},
     "output_type": "execute_result"
    }
   ],
   "source": [
    "function bisection(f,x1,x2,switch=1,tol=1.0e-9)\n",
    "    \"\"\"\n",
    "        root = bisection(f,x1,x2,switch=0,tol=1.0e-9).\n",
    "        Finds a root of f(x) = 0 by bisection.\n",
    "        The root must be bracketed in (x1,x2).\n",
    "        Setting switch = 1 returns root = None if\n",
    "        f(x) increases upon bisection.\n",
    "\n",
    "    \"\"\"\n",
    "    f1 = f(x1)\n",
    "    if f1 == 0.0\n",
    "        return x1\n",
    "    end\n",
    "    \n",
    "    f2 = f(x2)\n",
    "    if f2 == 0.0\n",
    "        return x2\n",
    "    end\n",
    "    \n",
    "    if sign(f1) == sign(f2)\n",
    "        error(\"Root is not bracketed\")\n",
    "    end\n",
    "    \n",
    "    n = Int64(ceil(log(abs(x2-x1)/tol)/log(2.0)))\n",
    "    \n",
    "    for i in 1:n\n",
    "        x3 = 0.5*(x1+x2)\n",
    "        f3 = f(x3)\n",
    "        if switch == 1 && abs(f3) > abs(f1) && abs(f3) > abs(f2)\n",
    "            return Nothing\n",
    "        end\n",
    "        \n",
    "        if f3 == 0.0\n",
    "            return x3\n",
    "        end\n",
    "        \n",
    "        if sign(f2) != sign(f3)\n",
    "            x1 = x3\n",
    "            f1 = f3\n",
    "        else\n",
    "            x2 = x3\n",
    "            f2 = f3\n",
    "        end\n",
    "    end\n",
    "    \n",
    "    return (x1 +x2)/2.0\n",
    "    \n",
    "end\n"
   ]
  },
  {
   "cell_type": "code",
   "execution_count": 11,
   "metadata": {},
   "outputs": [
    {
     "data": {
      "text/plain": [
       "2.0"
      ]
     },
     "execution_count": 11,
     "metadata": {},
     "output_type": "execute_result"
    }
   ],
   "source": [
    "bisection(f,1.6,2.4)"
   ]
  },
  {
   "cell_type": "markdown",
   "metadata": {},
   "source": [
    "### 7"
   ]
  },
  {
   "cell_type": "code",
   "execution_count": 12,
   "metadata": {},
   "outputs": [
    {
     "data": {
      "text/plain": [
       "allroots (generic function with 1 method)"
      ]
     },
     "execution_count": 12,
     "metadata": {},
     "output_type": "execute_result"
    }
   ],
   "source": [
    "function allroots(f, a, b, dx)\n",
    "    while true\n",
    "        x1,x2 = rootsearch(f,a,b,dx)\n",
    "        \n",
    "        if x1 ≠ Nothing\n",
    "            a = x2\n",
    "            root = bisection(f,x1,x2)\n",
    "            if root ≠ Nothing\n",
    "                println(\"Root is : $root\")\n",
    "            end\n",
    "        else\n",
    "            println(\"Done\")\n",
    "            break           \n",
    "        end\n",
    "    end\n",
    "end"
   ]
  },
  {
   "cell_type": "markdown",
   "metadata": {},
   "source": [
    "### 8"
   ]
  },
  {
   "cell_type": "code",
   "execution_count": 13,
   "metadata": {},
   "outputs": [
    {
     "name": "stdout",
     "output_type": "stream",
     "text": [
      "Root is : -1.0000000002980223\n",
      "Root is : 0.9999999997019791\n",
      "Root is : 1.99999999970198\n",
      "Done\n",
      "  0.130203 seconds (346.74 k allocations: 18.200 MiB)\n",
      "elapsed time (ns): 130203360\n",
      "bytes allocated:   19083568\n",
      "pool allocs:       346707\n",
      "non-pool GC allocs:33\n"
     ]
    }
   ],
   "source": [
    "@timev allroots(f,-2,3,0.01)"
   ]
  },
  {
   "cell_type": "markdown",
   "metadata": {},
   "source": [
    "### 9"
   ]
  },
  {
   "cell_type": "code",
   "execution_count": 14,
   "metadata": {},
   "outputs": [
    {
     "name": "stdout",
     "output_type": "stream",
     "text": [
      "  1.129114 seconds (4.12 M allocations: 210.286 MiB, 7.31% gc time)\n",
      "elapsed time (ns): 1129113512\n",
      "gc time (ns):      82569915\n",
      "bytes allocated:   220500410\n",
      "pool allocs:       4116590\n",
      "non-pool GC allocs:664\n",
      "GC pauses:         10\n"
     ]
    },
    {
     "data": {
      "text/plain": [
       "3-element Array{Float64,1}:\n",
       " -1.0\n",
       "  1.0\n",
       "  2.0"
      ]
     },
     "execution_count": 14,
     "metadata": {},
     "output_type": "execute_result"
    }
   ],
   "source": [
    "@timev find_zeros(f,-2,3)"
   ]
  },
  {
   "cell_type": "markdown",
   "metadata": {},
   "source": [
    "### Conclusion: the roots get from \"find_zeros\" method are close to the roots from the method \"allroots\".  Method \"allroots\" use less time and memory than \"find_zeros\""
   ]
  },
  {
   "cell_type": "code",
   "execution_count": null,
   "metadata": {},
   "outputs": [],
   "source": []
  }
 ],
 "metadata": {
  "kernelspec": {
   "display_name": "Julia 1.2.0",
   "language": "julia",
   "name": "julia-1.2"
  },
  "language_info": {
   "file_extension": ".jl",
   "mimetype": "application/julia",
   "name": "julia",
   "version": "1.2.0"
  }
 },
 "nbformat": 4,
 "nbformat_minor": 2
}
