{
 "cells": [
  {
   "cell_type": "code",
   "execution_count": 3,
   "metadata": {},
   "outputs": [],
   "source": [
    "using LinearAlgebra"
   ]
  },
  {
   "cell_type": "code",
   "execution_count": 4,
   "metadata": {},
   "outputs": [
    {
     "data": {
      "text/plain": [
       "generateSPDmatrix (generic function with 1 method)"
      ]
     },
     "execution_count": 4,
     "metadata": {},
     "output_type": "execute_result"
    }
   ],
   "source": [
    "function generateSPDmatrix(n)\n",
    "    A = rand(n,n)\n",
    "    B = Symmetric(A,:U)\n",
    "    B = B + n*Matrix(I(n))\n",
    "    return B\n",
    "end"
   ]
  },
  {
   "cell_type": "markdown",
   "metadata": {},
   "source": [
    "### 1. Creating the function of Gauss_Seidel"
   ]
  },
  {
   "cell_type": "code",
   "execution_count": 5,
   "metadata": {},
   "outputs": [
    {
     "data": {
      "text/plain": [
       "Gauss_Seidel (generic function with 2 methods)"
      ]
     },
     "execution_count": 5,
     "metadata": {},
     "output_type": "execute_result"
    }
   ],
   "source": [
    "function Gauss_Seidel(A,b,x, tol=1.0e-9)\n",
    "    \"\"\"\n",
    "    Gauss-Seidel method for solving [A]{x} = {b}.\n",
    "    Parameters:\n",
    "    A: a SPD matrix. \n",
    "    b: a vector \n",
    "    x: a vector of the initial values of x\n",
    "    tol: the tolerance level\n",
    "    \n",
    "    Output:\n",
    "    A vector of x when the norm of the difference between xnext and xprevious is below some tolerance level\n",
    "    \n",
    "    \"\"\"\n",
    "    \n",
    "    \n",
    "    n = length(b) \n",
    "    # L*x_next = b - U*x_pre\n",
    "    \n",
    "    x_pre = zeros(n)\n",
    "    x_next = copy(x)\n",
    "    count = 1 # record the number of iterations\n",
    "    tol_level = Inf # the tolerance level is initialized as infinity\n",
    "    while tol_level > tol\n",
    "        \n",
    "        for i in 1:n\n",
    "            if i == 1 # the first x_next\n",
    "                x_next[i] = (b[i]-dot(A[i,i+1:n],x_pre[i+1:n]))/A[i,i]\n",
    "                \n",
    "            elseif i == n # the last x_next\n",
    "                x_next[i] = (b[i]- dot(A[i,1:i-1],x_next[1:i-1]))/A[i,i]\n",
    "            else\n",
    "                x_next[i] = (b[i]-dot(A[i,i+1:n],x_pre[i+1:n]) - dot(A[i,1:i-1],x_next[1:i-1]))/A[i,i]\n",
    "            end\n",
    "        end\n",
    "        \n",
    "        # compute the tolerance level by norm\n",
    "        tol_level = norm(x_next - x_pre)\n",
    "        x_pre = x_next\n",
    "        count += 1\n",
    "    end\n",
    "    \n",
    "    return x_next,count,tol_level\n",
    "end"
   ]
  },
  {
   "cell_type": "markdown",
   "metadata": {},
   "source": [
    "### 2. Creating an example with dimension n = 10000 to test the Gauss_Seidel method and compare with \\ operator of Julia"
   ]
  },
  {
   "cell_type": "code",
   "execution_count": 6,
   "metadata": {},
   "outputs": [],
   "source": [
    "A = generateSPDmatrix(10000);"
   ]
  },
  {
   "cell_type": "code",
   "execution_count": 7,
   "metadata": {},
   "outputs": [],
   "source": [
    "b = rand(10000);"
   ]
  },
  {
   "cell_type": "code",
   "execution_count": 8,
   "metadata": {},
   "outputs": [],
   "source": [
    "x = zeros(10000);"
   ]
  },
  {
   "cell_type": "code",
   "execution_count": 9,
   "metadata": {},
   "outputs": [
    {
     "name": "stdout",
     "output_type": "stream",
     "text": [
      "  5.644175 seconds (856.65 k allocations: 3.023 GiB, 8.88% gc time)\n",
      "elapsed time (ns): 5644174807\n",
      "gc time (ns):      501074632\n",
      "bytes allocated:   3246031856\n",
      "pool allocs:       778463\n",
      "non-pool GC allocs:14572\n",
      "malloc() calls:    63612\n",
      "GC pauses:         141\n",
      "full collections:  1\n"
     ]
    },
    {
     "data": {
      "text/plain": [
       "([-8.585345748817443e-6, -1.592230680955768e-5, 1.0970215547110309e-6, 1.9894131982291825e-5, -1.940181399056645e-5, 2.0467121716844915e-5, -1.4965370645909289e-5, 4.7108731369054786e-5, 7.878193998560077e-5, 4.6054284787622e-6  …  6.135984599177123e-5, 6.947261664217057e-5, 3.30933558290525e-5, 2.0840957704761036e-5, 1.483896443494519e-5, 2.6101512258176435e-5, 1.2292859375632082e-5, 1.8727874909221906e-5, 6.064146882546894e-5, 3.6053695348673764e-5], 3, 0.0)"
      ]
     },
     "execution_count": 9,
     "metadata": {},
     "output_type": "execute_result"
    }
   ],
   "source": [
    "@timev x_next,n,tol_level = Gauss_Seidel(A,b,x)"
   ]
  },
  {
   "cell_type": "code",
   "execution_count": 10,
   "metadata": {},
   "outputs": [
    {
     "name": "stdout",
     "output_type": "stream",
     "text": [
      "  8.727896 seconds (3.72 M allocations: 942.816 MiB, 0.76% gc time)\n",
      "elapsed time (ns): 8727896107\n",
      "gc time (ns):      66598806\n",
      "bytes allocated:   988614048\n",
      "pool allocs:       3723799\n",
      "non-pool GC allocs:742\n",
      "malloc() calls:    12\n",
      "GC pauses:         9\n",
      "full collections:  1\n"
     ]
    },
    {
     "data": {
      "text/plain": [
       "10000-element Array{Float64,1}:\n",
       " -5.587687678257085e-6 \n",
       " -1.2889590385505455e-5\n",
       "  4.0594793549882724e-6\n",
       "  2.2890409512671396e-5\n",
       " -1.6383731753786528e-5\n",
       "  2.350201666483611e-5 \n",
       " -1.1968123423778862e-5\n",
       "  5.010611520639096e-5 \n",
       "  8.175265465252787e-5 \n",
       "  7.59723307166442e-6  \n",
       "  2.1667997582476235e-5\n",
       "  1.1632256293576295e-5\n",
       "  3.809291967271936e-6 \n",
       "  ⋮                    \n",
       "  2.2692700290553396e-5\n",
       " -1.1764551683652093e-5\n",
       "  6.113013510451993e-5 \n",
       "  6.925271419148009e-5 \n",
       "  3.286933202125526e-5 \n",
       "  2.0610755357023963e-5\n",
       "  1.4613854417597048e-5\n",
       "  2.5874292937244716e-5\n",
       "  1.2065732536503148e-5\n",
       "  1.8503771524608556e-5\n",
       "  6.042009201740195e-5 \n",
       "  3.5830054558019e-5   "
      ]
     },
     "execution_count": 10,
     "metadata": {},
     "output_type": "execute_result"
    }
   ],
   "source": [
    "@timev x_ori = A\\b"
   ]
  },
  {
   "cell_type": "code",
   "execution_count": 11,
   "metadata": {},
   "outputs": [
    {
     "data": {
      "text/plain": [
       "0.00010764770997315322"
      ]
     },
     "execution_count": 11,
     "metadata": {},
     "output_type": "execute_result"
    }
   ],
   "source": [
    "norm(x_ori - x_next)"
   ]
  },
  {
   "cell_type": "code",
   "execution_count": 12,
   "metadata": {},
   "outputs": [
    {
     "name": "stdout",
     "output_type": "stream",
     "text": [
      "The iteration number of Gauss_Seidel is : 3\n",
      "The norm of x_next and x_previous in the last iteration is : 0.0\n"
     ]
    }
   ],
   "source": [
    "println(\"The iteration number of Gauss_Seidel is : $n\")\n",
    "println(\"The norm of x_next and x_previous in the last iteration is : $tol_level\")"
   ]
  },
  {
   "cell_type": "markdown",
   "metadata": {},
   "source": [
    "## Conclusion: Gauss_Seidel method take less time than the \\ operator of julia. But the Gauss_Seidel will use more memeory than \\ operator.  And even though the x_next and x_pre is close enough and the norm is lessen than the tolerance level, the x_next still has some gap with the exact result."
   ]
  },
  {
   "cell_type": "code",
   "execution_count": null,
   "metadata": {},
   "outputs": [],
   "source": []
  }
 ],
 "metadata": {
  "kernelspec": {
   "display_name": "Julia 1.2.0",
   "language": "julia",
   "name": "julia-1.2"
  },
  "language_info": {
   "file_extension": ".jl",
   "mimetype": "application/julia",
   "name": "julia",
   "version": "1.2.0"
  }
 },
 "nbformat": 4,
 "nbformat_minor": 2
}
