{
 "cells": [
  {
   "cell_type": "markdown",
   "metadata": {},
   "source": [
    "### 1. function generateSPDmatrix"
   ]
  },
  {
   "cell_type": "code",
   "execution_count": 1,
   "metadata": {},
   "outputs": [],
   "source": [
    "using LinearAlgebra"
   ]
  },
  {
   "cell_type": "code",
   "execution_count": 2,
   "metadata": {},
   "outputs": [
    {
     "data": {
      "text/plain": [
       "generateSPDmatrix (generic function with 1 method)"
      ]
     },
     "execution_count": 2,
     "metadata": {},
     "output_type": "execute_result"
    }
   ],
   "source": [
    "function generateSPDmatrix(n)\n",
    "    A = rand(n,n)\n",
    "    B = Symmetric(A,:U)\n",
    "    B = B + n*Matrix(I(n))\n",
    "    return B\n",
    "end"
   ]
  },
  {
   "cell_type": "markdown",
   "metadata": {},
   "source": [
    "### 2. function choleskyDecompose"
   ]
  },
  {
   "cell_type": "code",
   "execution_count": 3,
   "metadata": {},
   "outputs": [
    {
     "data": {
      "text/plain": [
       "choleskyDecompose! (generic function with 1 method)"
      ]
     },
     "execution_count": 3,
     "metadata": {},
     "output_type": "execute_result"
    }
   ],
   "source": [
    "function choleskyDecompose!(A::Array{Float64,2})\n",
    "    n = length(A[:,1])\n",
    "    \n",
    "    for k in 1:n\n",
    "        if A[k,k] < 0\n",
    "            error(\"Matrix is not positive definite\")\n",
    "        end\n",
    "        A[k,k] = sqrt(A[k,k] - dot(A[k,1:k-1],A[k,1:k-1]))\n",
    "        for i in k+1:n\n",
    "            A[i,k] = (A[i,k] - dot(A[i,1:k-1],A[k,1:k-1])) / A[k,k]\n",
    "        end\n",
    "    end\n",
    "    \n",
    "    for k in 2:n\n",
    "        A[1:k-1,k] = zeros(k-1)\n",
    "    end\n",
    "    \n",
    "    return A\n",
    "end\n",
    "    "
   ]
  },
  {
   "cell_type": "markdown",
   "metadata": {},
   "source": [
    "### 3. function choleskySolve"
   ]
  },
  {
   "cell_type": "code",
   "execution_count": 4,
   "metadata": {},
   "outputs": [
    {
     "data": {
      "text/plain": [
       "choleskySolve! (generic function with 1 method)"
      ]
     },
     "execution_count": 4,
     "metadata": {},
     "output_type": "execute_result"
    }
   ],
   "source": [
    "function choleskySolve!(L::Array{Float64,2},b::Array{Float64,1})\n",
    "    n = length(b)\n",
    "    \n",
    "    #Solution of [L]{y} = {b}\n",
    "    for k in 1:n\n",
    "        b[k] = (b[k] - dot(L[k,1:k-1],b[1:k-1]))/L[k,k]\n",
    "    end\n",
    "    \n",
    "    # Solution of [L_transpose]{x} = {y}\n",
    "    for k in n:-1:1\n",
    "        b[k] = (b[k] - dot(L[k+1:n,k],b[k+1:n])) /L[k,k]\n",
    "    end\n",
    "    return b\n",
    "end\n"
   ]
  },
  {
   "cell_type": "code",
   "execution_count": 5,
   "metadata": {},
   "outputs": [
    {
     "data": {
      "text/plain": [
       "100×100 Array{Float64,2}:\n",
       " 100.115        0.8732       0.597079   …    0.508455     0.695653 \n",
       "   0.8732     100.502        0.787069        0.541899     0.773271 \n",
       "   0.597079     0.787069   100.282           0.610013     0.209749 \n",
       "   0.472819     0.787806     0.911917        0.480584     0.403177 \n",
       "   0.490181     0.830139     0.651598        0.708868     0.815973 \n",
       "   0.203956     0.149089     0.339931   …    0.432961     0.699816 \n",
       "   0.843853     0.0652933    0.493653        0.385803     0.0173841\n",
       "   0.605863     0.142445     0.957244        0.224763     0.124287 \n",
       "   0.713121     0.660057     0.664708        0.0293402    0.341878 \n",
       "   0.479154     0.840888     0.357113        0.178227     0.320699 \n",
       "   0.94325      0.715489     0.938002   …    0.846554     0.457177 \n",
       "   0.895344     0.195701     0.127699        0.135896     0.071945 \n",
       "   0.857438     0.245542     0.0863232       0.624115     0.290725 \n",
       "   ⋮                                    ⋱                          \n",
       "   0.0276325    0.236341     0.156032        0.939517     0.127296 \n",
       "   0.382737     0.77314      0.655808        0.915797     0.500102 \n",
       "   0.549415     0.567725     0.197505   …    0.399356     0.259197 \n",
       "   0.631493     0.792101     0.974145        0.12068      0.474988 \n",
       "   0.550863     0.183646     0.942948        0.136787     0.130177 \n",
       "   0.44325      0.748833     0.647321        0.652592     0.466153 \n",
       "   0.471591     0.193085     0.0242014       0.83698      0.257028 \n",
       "   0.397103     0.42297      0.977834   …    0.405153     0.776478 \n",
       "   0.327368     0.656284     0.91797         0.532023     0.82814  \n",
       "   0.108528     0.218799     0.02229         0.527094     0.119144 \n",
       "   0.508455     0.541899     0.610013      100.361        0.366729 \n",
       "   0.695653     0.773271     0.209749        0.366729   100.239    "
      ]
     },
     "execution_count": 5,
     "metadata": {},
     "output_type": "execute_result"
    }
   ],
   "source": [
    "A = generateSPDmatrix(100)"
   ]
  },
  {
   "cell_type": "code",
   "execution_count": 6,
   "metadata": {},
   "outputs": [
    {
     "data": {
      "text/plain": [
       "100-element Array{Float64,1}:\n",
       " 0.8858662323215323 \n",
       " 0.9798807727259333 \n",
       " 0.24007073708353732\n",
       " 0.36670358841821105\n",
       " 0.01960279494106021\n",
       " 0.36481423118648193\n",
       " 0.14881380842324288\n",
       " 0.42582314896766604\n",
       " 0.6773953345627166 \n",
       " 0.5913858194001005 \n",
       " 0.3666753693222573 \n",
       " 0.21629926181779568\n",
       " 0.830966168766432  \n",
       " ⋮                  \n",
       " 0.1497751401955436 \n",
       " 0.6889364722396787 \n",
       " 0.0511534144888941 \n",
       " 0.733353189374133  \n",
       " 0.22184867414852238\n",
       " 0.47415302137489235\n",
       " 0.14225760682491573\n",
       " 0.44581556922759025\n",
       " 0.14431245236674628\n",
       " 0.6233628680754508 \n",
       " 0.04643450214879197\n",
       " 0.2759699612875739 "
      ]
     },
     "execution_count": 6,
     "metadata": {},
     "output_type": "execute_result"
    }
   ],
   "source": [
    "b = rand(100)"
   ]
  },
  {
   "cell_type": "markdown",
   "metadata": {},
   "source": [
    "### Julia’s \\ functionality"
   ]
  },
  {
   "cell_type": "code",
   "execution_count": 7,
   "metadata": {},
   "outputs": [
    {
     "name": "stdout",
     "output_type": "stream",
     "text": [
      "  1.050690 seconds (3.87 M allocations: 187.066 MiB, 5.94% gc time)\n",
      "elapsed time (ns): 1050689688\n",
      "gc time (ns):      62400391\n",
      "bytes allocated:   196152628\n",
      "pool allocs:       3872153\n",
      "non-pool GC allocs:726\n",
      "malloc() calls:    2\n",
      "GC pauses:         9\n"
     ]
    },
    {
     "data": {
      "text/plain": [
       "100-element Array{Float64,1}:\n",
       "  0.0072312313335380195 \n",
       "  0.00815987989365772   \n",
       "  0.0008238835598002542 \n",
       "  0.0021608915002543534 \n",
       " -0.0014123076384940682 \n",
       "  0.001955757583733038  \n",
       " -0.00025646467278897994\n",
       "  0.0026311909677279493 \n",
       "  0.005156813894773365  \n",
       "  0.004523896566973614  \n",
       "  0.0021209063030110625 \n",
       "  0.00023432929617030342\n",
       "  0.0063858002839664325 \n",
       "  ⋮                     \n",
       " -3.304742116164591e-6  \n",
       "  0.005159891828522059  \n",
       " -0.0009351402367257511 \n",
       "  0.005526314916381282  \n",
       "  0.0004927464157269204 \n",
       "  0.0030625542654638444 \n",
       " -3.100535336431014e-5  \n",
       "  0.002784970018289827  \n",
       " -8.11880851695054e-5   \n",
       "  0.004655298735666107  \n",
       " -0.001073294127940109  \n",
       "  0.0010727832159067097 "
      ]
     },
     "execution_count": 7,
     "metadata": {},
     "output_type": "execute_result"
    }
   ],
   "source": [
    "@timev A \\ b"
   ]
  },
  {
   "cell_type": "code",
   "execution_count": 8,
   "metadata": {},
   "outputs": [
    {
     "name": "stdout",
     "output_type": "stream",
     "text": [
      "  0.125587 seconds (270.97 k allocations: 16.250 MiB)\n",
      "elapsed time (ns): 125586720\n",
      "bytes allocated:   17038849\n",
      "pool allocs:       270928\n",
      "non-pool GC allocs:46\n"
     ]
    },
    {
     "data": {
      "text/plain": [
       "100×100 Array{Float64,2}:\n",
       " 10.0057       0.0          0.0         …   0.0          0.0         0.0   \n",
       "  0.0872699   10.0247       0.0             0.0          0.0         0.0   \n",
       "  0.0596736    0.0779936   10.0136          0.0          0.0         0.0   \n",
       "  0.0472548    0.0781753    0.0901772       0.0          0.0         0.0   \n",
       "  0.04899      0.082383     0.0641375       0.0          0.0         0.0   \n",
       "  0.0203839    0.0146947    0.0337109   …   0.0          0.0         0.0   \n",
       "  0.0843369    0.00577906   0.0487505       0.0          0.0         0.0   \n",
       "  0.0605515    0.0136823    0.0951267       0.0          0.0         0.0   \n",
       "  0.0712712    0.0652228    0.0654476       0.0          0.0         0.0   \n",
       "  0.047888     0.0834649    0.0347273       0.0          0.0         0.0   \n",
       "  0.0942709    0.070552     0.0925612   …   0.0          0.0         0.0   \n",
       "  0.0894831    0.0187429    0.0120732       0.0          0.0         0.0   \n",
       "  0.0856946    0.0237477    0.00792494      0.0          0.0         0.0   \n",
       "  ⋮                                     ⋱                                  \n",
       "  0.00276167   0.0235518    0.0153821       0.0          0.0         0.0   \n",
       "  0.0382517    0.0767907    0.0646655       0.0          0.0         0.0   \n",
       "  0.05491      0.0561547    0.0189591   …   0.0          0.0         0.0   \n",
       "  0.063113     0.0784657    0.0962947       0.0          0.0         0.0   \n",
       "  0.0550547    0.0178401    0.0936994       0.0          0.0         0.0   \n",
       "  0.0442996    0.0743133    0.0638012       0.0          0.0         0.0   \n",
       "  0.0471321    0.0188507    0.00198915      0.0          0.0         0.0   \n",
       "  0.0396876    0.0418473    0.0970879   …   0.0          0.0         0.0   \n",
       "  0.032718     0.065182     0.0909694       0.0          0.0         0.0   \n",
       "  0.0108466    0.0217316    0.00199206     10.015        0.0         0.0   \n",
       "  0.0508164    0.0536141    0.0601979       0.0372168   10.0072      0.0   \n",
       "  0.0695254    0.0765315    0.019936       -0.00271915   0.0209058  10.0003"
      ]
     },
     "execution_count": 8,
     "metadata": {},
     "output_type": "execute_result"
    }
   ],
   "source": [
    "@timev L = choleskyDecompose!(A)"
   ]
  },
  {
   "cell_type": "code",
   "execution_count": 9,
   "metadata": {},
   "outputs": [
    {
     "name": "stdout",
     "output_type": "stream",
     "text": [
      "  0.122974 seconds (152.34 k allocations: 7.621 MiB, 17.01% gc time)\n",
      "elapsed time (ns): 122973771\n",
      "gc time (ns):      20922587\n",
      "bytes allocated:   7991487\n",
      "pool allocs:       152306\n",
      "non-pool GC allocs:36\n",
      "GC pauses:         1\n",
      "full collections:  1\n"
     ]
    },
    {
     "data": {
      "text/plain": [
       "100-element Array{Float64,1}:\n",
       "  0.007231231333538017  \n",
       "  0.00815987989365772   \n",
       "  0.0008238835598002541 \n",
       "  0.0021608915002543543 \n",
       " -0.0014123076384940677 \n",
       "  0.0019557575837330396 \n",
       " -0.00025646467278898   \n",
       "  0.0026311909677279493 \n",
       "  0.0051568138947733645 \n",
       "  0.004523896566973616  \n",
       "  0.0021209063030110603 \n",
       "  0.00023432929617030356\n",
       "  0.006385800283966431  \n",
       "  ⋮                     \n",
       " -3.3047421161645177e-6 \n",
       "  0.005159891828522059  \n",
       " -0.000935140236725752  \n",
       "  0.005526314916381285  \n",
       "  0.0004927464157269206 \n",
       "  0.0030625542654638452 \n",
       " -3.100535336430986e-5  \n",
       "  0.002784970018289828  \n",
       " -8.118808516950563e-5  \n",
       "  0.004655298735666108  \n",
       " -0.0010732941279401084 \n",
       "  0.0010727832159067095 "
      ]
     },
     "execution_count": 9,
     "metadata": {},
     "output_type": "execute_result"
    }
   ],
   "source": [
    "@timev choleskySolve!(L,b)"
   ]
  },
  {
   "cell_type": "markdown",
   "metadata": {},
   "source": [
    "### Concusion: The last digits of the two method answers are not the same because of the computer float point property. But the answers are both correct."
   ]
  },
  {
   "cell_type": "code",
   "execution_count": null,
   "metadata": {},
   "outputs": [],
   "source": []
  }
 ],
 "metadata": {
  "kernelspec": {
   "display_name": "Julia 1.2.0",
   "language": "julia",
   "name": "julia-1.2"
  },
  "language_info": {
   "file_extension": ".jl",
   "mimetype": "application/julia",
   "name": "julia",
   "version": "1.2.0"
  }
 },
 "nbformat": 4,
 "nbformat_minor": 2
}
