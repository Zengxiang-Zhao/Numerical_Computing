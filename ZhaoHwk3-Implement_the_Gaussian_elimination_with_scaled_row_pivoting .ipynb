{
 "cells": [
  {
   "cell_type": "markdown",
   "metadata": {},
   "source": [
    "### Questin 1 "
   ]
  },
  {
   "cell_type": "code",
   "execution_count": 1,
   "metadata": {},
   "outputs": [
    {
     "data": {
      "text/plain": [
       "error (generic function with 1 method)"
      ]
     },
     "execution_count": 1,
     "metadata": {},
     "output_type": "execute_result"
    }
   ],
   "source": [
    "function error(errstring)\n",
    "    println(errstring)\n",
    "    input = readline()\n",
    "    \n",
    "end\n"
   ]
  },
  {
   "cell_type": "markdown",
   "metadata": {},
   "source": [
    "### Question 2"
   ]
  },
  {
   "cell_type": "code",
   "execution_count": 2,
   "metadata": {},
   "outputs": [
    {
     "data": {
      "text/plain": [
       "swapRows! (generic function with 1 method)"
      ]
     },
     "execution_count": 2,
     "metadata": {},
     "output_type": "execute_result"
    }
   ],
   "source": [
    "function swapRows!(A,i,j)\n",
    "    if ndims(A) == 1\n",
    "        A[i],A[j] = A[j],A[i]\n",
    "    else\n",
    "        A[i,:],A[j,:] = A[j,:],A[i,:]\n",
    "    end\n",
    "    return A\n",
    "end"
   ]
  },
  {
   "cell_type": "markdown",
   "metadata": {},
   "source": [
    "### Question 3"
   ]
  },
  {
   "cell_type": "code",
   "execution_count": 3,
   "metadata": {},
   "outputs": [
    {
     "data": {
      "text/plain": [
       "gaussPivot (generic function with 2 methods)"
      ]
     },
     "execution_count": 3,
     "metadata": {},
     "output_type": "execute_result"
    }
   ],
   "source": [
    "import LinearAlgebra\n",
    "function gaussPivot(A::Array{Float64,2}, b::Array{Float64,1}, tol=1.0e-12)\n",
    "    n = length(b)\n",
    "    count = 0 # store the number of swaps\n",
    "    \n",
    "#     set up scale factors\n",
    "    s = zeros(n)\n",
    "    for i in 1:n\n",
    "        s[i] = maximum(abs.(A[i,:]))\n",
    "    end\n",
    "    \n",
    "    \n",
    "    # Row interchange, if needed\n",
    "    for k in 1:n-1\n",
    "        \n",
    "        p = argmax(abs.(A[k:n,k]) ./ s[k:n]) +k -1\n",
    "     \n",
    "\n",
    "        if abs(A[p,k]) < tol\n",
    "            error(\"Matrix is singular\")\n",
    "        end\n",
    "        \n",
    "        if p != k\n",
    "            swapRows!(b,k,p)\n",
    "            swapRows!(s,k,p)\n",
    "            swapRows!(A,k,p)\n",
    "            count += 1\n",
    "        end   \n",
    "        \n",
    "        # Elimination\n",
    "        for i in k+1:n\n",
    "            if A[i,k] != 0.0\n",
    "                lam = A[i,k] / A[k,k]\n",
    "                A[i,k+1:n] = A[i,k+1:n] - lam * A[k,k+1:n]\n",
    "                b[i] = b[i] -lam*b[k]\n",
    "            end\n",
    "        end\n",
    "    end\n",
    "    \n",
    "    if abs(A[n,n]) < tol\n",
    "        error(\"Matrix is singular\")\n",
    "    end\n",
    "    \n",
    "#     Back substitution\n",
    "    b[n] = b[n] / A[n,n]\n",
    "    for k in (n-1):-1:1\n",
    "        b[k] = (b[k]-LinearAlgebra.dot(A[k,k+1:n],b[k+1:n])) / A[k,k]\n",
    "    end\n",
    " \n",
    "    return (b,count)\n",
    "end\n",
    "\n"
   ]
  },
  {
   "cell_type": "markdown",
   "metadata": {},
   "source": [
    "### Question 4"
   ]
  },
  {
   "cell_type": "code",
   "execution_count": 4,
   "metadata": {},
   "outputs": [
    {
     "data": {
      "text/plain": [
       "4×4 Array{Float64,2}:\n",
       "  2.0  -1.0   0.0   0.0\n",
       "  0.0   0.0  -1.0   1.0\n",
       "  0.0  -1.0   2.0  -1.0\n",
       " -1.0   2.0  -1.0   0.0"
      ]
     },
     "execution_count": 4,
     "metadata": {},
     "output_type": "execute_result"
    }
   ],
   "source": [
    "A = [\n",
    "    2.0 -1 0 0\n",
    "    0 0 -1 1\n",
    "    0 -1 2 -1\n",
    "    -1 2 -1 0\n",
    "]"
   ]
  },
  {
   "cell_type": "code",
   "execution_count": 5,
   "metadata": {},
   "outputs": [
    {
     "data": {
      "text/plain": [
       "4-element Array{Float64,1}:\n",
       " 1.0\n",
       " 0.0\n",
       " 0.0\n",
       " 0.0"
      ]
     },
     "execution_count": 5,
     "metadata": {},
     "output_type": "execute_result"
    }
   ],
   "source": [
    "b = [ 1, 0.0, 0, 0]"
   ]
  },
  {
   "cell_type": "markdown",
   "metadata": {},
   "source": [
    "### Question 5"
   ]
  },
  {
   "cell_type": "code",
   "execution_count": 6,
   "metadata": {},
   "outputs": [
    {
     "data": {
      "text/plain": [
       "4-element Array{Float64,1}:\n",
       " 0.9999999999999998\n",
       " 0.9999999999999996\n",
       " 0.9999999999999993\n",
       " 0.9999999999999993"
      ]
     },
     "execution_count": 6,
     "metadata": {},
     "output_type": "execute_result"
    }
   ],
   "source": [
    "A \\ b"
   ]
  },
  {
   "cell_type": "markdown",
   "metadata": {},
   "source": [
    "### Question 6"
   ]
  },
  {
   "cell_type": "code",
   "execution_count": 7,
   "metadata": {},
   "outputs": [
    {
     "name": "stdout",
     "output_type": "stream",
     "text": [
      "the solution is : [0.9999999999999998, 0.9999999999999997, 0.9999999999999996, 0.9999999999999996]\n",
      "the number of swaps is : 2\n"
     ]
    }
   ],
   "source": [
    "x,count = gaussPivot(A,b)\n",
    "println(\"the solution is : $x\")\n",
    "println(\"the number of swaps is : $count\")"
   ]
  },
  {
   "cell_type": "markdown",
   "metadata": {},
   "source": [
    "### Question 7"
   ]
  },
  {
   "cell_type": "code",
   "execution_count": 8,
   "metadata": {},
   "outputs": [
    {
     "name": "stdout",
     "output_type": "stream",
     "text": [
      "  0.049295 seconds (124.24 k allocations: 14.157 MiB)\n",
      "elapsed time (ns): 49294555\n",
      "bytes allocated:   14844444\n",
      "pool allocs:       124226\n",
      "non-pool GC allocs:15\n",
      "malloc() calls:    1\n"
     ]
    },
    {
     "data": {
      "text/plain": [
       "1000×1000 Array{Float64,2}:\n",
       " 0.217993   0.31677    0.159115   …  0.712029   0.164602   0.689182 \n",
       " 0.0365016  0.164039   0.130356      0.833636   0.389361   0.70207  \n",
       " 0.243044   0.6512     0.55719       0.260049   0.983523   0.610551 \n",
       " 0.456812   0.339328   0.298569      0.301008   0.432999   0.199522 \n",
       " 0.867384   0.408576   0.181766      0.394082   0.866847   0.274603 \n",
       " 0.722424   0.0668732  0.859959   …  0.0221969  0.233236   0.731766 \n",
       " 0.877079   0.154225   0.352027      0.547146   0.0564434  0.747418 \n",
       " 0.206799   0.838149   0.224823      0.132909   0.59389    0.174706 \n",
       " 0.115386   0.802714   0.0720457     0.372408   0.130464   0.192096 \n",
       " 0.891143   0.39656    0.0935458     0.0900841  0.639369   0.707635 \n",
       " 0.649797   0.831287   0.571729   …  0.0828038  0.358765   0.650422 \n",
       " 0.150044   0.511378   0.341953      0.244902   0.162133   0.239151 \n",
       " 0.973609   0.183368   0.925216      0.706497   0.0514108  0.725805 \n",
       " ⋮                                ⋱                                 \n",
       " 0.540535   0.866992   0.576262      0.0388498  0.562759   0.769919 \n",
       " 0.344495   0.768522   0.245857      0.056276   0.638437   0.0332959\n",
       " 0.97343    0.620801   0.720564   …  0.719587   0.715856   0.973037 \n",
       " 0.424674   0.02468    0.698616      0.910203   0.708435   0.193576 \n",
       " 0.117389   0.852415   0.965541      0.628035   0.141204   0.0576343\n",
       " 0.209319   0.761596   0.737368      0.311586   0.0686725  0.220883 \n",
       " 0.868098   0.84904    0.541556      0.444814   0.847622   0.904585 \n",
       " 0.501276   0.929289   0.0478741  …  0.168313   0.560145   0.799632 \n",
       " 0.52971    0.490487   0.18744       0.20952    0.54405    0.477606 \n",
       " 0.692733   0.677514   0.675758      0.981075   0.843513   0.862261 \n",
       " 0.464367   0.604816   0.775286      0.038263   0.846356   0.0497596\n",
       " 0.241776   0.273984   0.515005      0.326108   0.669545   0.928791 "
      ]
     },
     "execution_count": 8,
     "metadata": {},
     "output_type": "execute_result"
    }
   ],
   "source": [
    "@timev matrix_A = rand(1000,1000)"
   ]
  },
  {
   "cell_type": "markdown",
   "metadata": {},
   "source": [
    "### Question 8"
   ]
  },
  {
   "cell_type": "code",
   "execution_count": 9,
   "metadata": {},
   "outputs": [
    {
     "name": "stdout",
     "output_type": "stream",
     "text": [
      "  0.068381 seconds (162.36 k allocations: 8.790 MiB, 12.49% gc time)\n",
      "elapsed time (ns): 68381331\n",
      "gc time (ns):      8541805\n",
      "bytes allocated:   9217461\n",
      "pool allocs:       162348\n",
      "non-pool GC allocs:14\n",
      "GC pauses:         1\n"
     ]
    },
    {
     "data": {
      "text/plain": [
       "1000-element Array{Float64,1}:\n",
       " -0.17172331423426715\n",
       "  0.5795174254345192 \n",
       "  0.43722259254259505\n",
       " -0.547610524930869  \n",
       " -0.3593463385425568 \n",
       " -0.5719231675827015 \n",
       " -0.7149524936747942 \n",
       "  0.1855454841447672 \n",
       " -0.7295867624714004 \n",
       "  1.0459532681609414 \n",
       "  1.0562430875123119 \n",
       " -1.4558394531793755 \n",
       " -1.9633486678171619 \n",
       "  ⋮                  \n",
       " -0.2855351701375168 \n",
       " -0.9843953874054311 \n",
       " -1.2108946734008805 \n",
       " -0.6876659457150774 \n",
       " -0.44523158162164955\n",
       "  1.1573256570701556 \n",
       "  1.098210089667356  \n",
       "  1.3833182740737597 \n",
       " -0.3767894268546188 \n",
       "  1.0287985282745329 \n",
       " -0.6521257868487275 \n",
       "  0.6787628703611118 "
      ]
     },
     "execution_count": 9,
     "metadata": {},
     "output_type": "execute_result"
    }
   ],
   "source": [
    "@timev  vector_b = randn(1000)"
   ]
  },
  {
   "cell_type": "markdown",
   "metadata": {},
   "source": [
    "### Question 9"
   ]
  },
  {
   "cell_type": "code",
   "execution_count": 10,
   "metadata": {},
   "outputs": [
    {
     "name": "stdout",
     "output_type": "stream",
     "text": [
      "  0.030407 seconds (10 allocations: 7.645 MiB)\n",
      "elapsed time (ns): 30407084\n",
      "bytes allocated:   8016576\n",
      "pool allocs:       7\n",
      "non-pool GC allocs:2\n",
      "malloc() calls:    1\n"
     ]
    },
    {
     "data": {
      "text/plain": [
       "1000-element Array{Float64,1}:\n",
       " -3.050776096801361  \n",
       "  1.1749407126160163 \n",
       " -1.2608572127604833 \n",
       " -1.3430419796947277 \n",
       "  0.9895452726842924 \n",
       "  3.2067056390154356 \n",
       "  0.2130749582012637 \n",
       " -1.8906207994268989 \n",
       " -0.0793012635818603 \n",
       " -0.7968312673467757 \n",
       " -0.9102994451047196 \n",
       "  1.5322116343119336 \n",
       "  1.2643871652241916 \n",
       "  ⋮                  \n",
       "  0.44397180717260154\n",
       " -1.1213443464863933 \n",
       "  0.09819587729098618\n",
       " -0.7513118412427392 \n",
       "  0.3702435225142161 \n",
       "  1.3923247888887833 \n",
       " -0.2639101841387408 \n",
       " -1.385153743505421  \n",
       "  1.2580197560269741 \n",
       " -0.3181726938581012 \n",
       "  0.1416853451949697 \n",
       " -1.8762434028908606 "
      ]
     },
     "execution_count": 10,
     "metadata": {},
     "output_type": "execute_result"
    }
   ],
   "source": [
    "@timev x1= matrix_A \\ vector_b\n",
    "x1"
   ]
  },
  {
   "cell_type": "code",
   "execution_count": 11,
   "metadata": {},
   "outputs": [
    {
     "name": "stdout",
     "output_type": "stream",
     "text": [
      "  3.441682 seconds (2.01 M allocations: 10.257 GiB, 23.72% gc time)\n",
      "elapsed time (ns): 3441681848\n",
      "gc time (ns):      816320583\n",
      "bytes allocated:   11013879840\n",
      "pool allocs:       120788\n",
      "non-pool GC allocs:1886201\n",
      "GC pauses:         480\n",
      "the number of swaps is: 991\n"
     ]
    }
   ],
   "source": [
    "@timev x2, count2 =  gaussPivot(matrix_A,vector_b)\n",
    "println(\"the number of swaps is: $count2\")"
   ]
  },
  {
   "cell_type": "code",
   "execution_count": 12,
   "metadata": {},
   "outputs": [
    {
     "data": {
      "text/plain": [
       "1000-element Array{Float64,1}:\n",
       " -3.050776096800459  \n",
       "  1.1749407126149316 \n",
       " -1.2608572127603468 \n",
       " -1.3430419796938897 \n",
       "  0.9895452726846158 \n",
       "  3.2067056390142525 \n",
       "  0.21307495820063516\n",
       " -1.8906207994269102 \n",
       " -0.07930126358188229\n",
       " -0.7968312673458778 \n",
       " -0.9102994451044577 \n",
       "  1.5322116343112115 \n",
       "  1.2643871652238845 \n",
       "  ⋮                  \n",
       "  0.443971807171724  \n",
       " -1.1213443464864388 \n",
       "  0.09819587729166183\n",
       " -0.7513118412425159 \n",
       "  0.37024352251508574\n",
       "  1.3923247888890058 \n",
       " -0.2639101841390997 \n",
       " -1.385153743505555  \n",
       "  1.2580197560263844 \n",
       " -0.31817269385768665\n",
       "  0.1416853451951283 \n",
       " -1.8762434028906216 "
      ]
     },
     "execution_count": 12,
     "metadata": {},
     "output_type": "execute_result"
    }
   ],
   "source": [
    "x2"
   ]
  },
  {
   "cell_type": "markdown",
   "metadata": {},
   "source": [
    "## Comment: Julia's left devision is better than the gaussPivot()"
   ]
  },
  {
   "cell_type": "markdown",
   "metadata": {},
   "source": [
    "### Question 11"
   ]
  },
  {
   "cell_type": "code",
   "execution_count": null,
   "metadata": {},
   "outputs": [],
   "source": [
    "@timev matrix_2 = rand(1000000, 1000000)"
   ]
  },
  {
   "cell_type": "markdown",
   "metadata": {},
   "source": [
    "### comment:  I tried this question, but it would take a long time to finish, thus I interrupted the compile. my computer can't handle the matrix with the dimension of 1000000 ."
   ]
  },
  {
   "cell_type": "markdown",
   "metadata": {},
   "source": [
    "### Question 12"
   ]
  },
  {
   "cell_type": "markdown",
   "metadata": {},
   "source": [
    "### I think the largest matrix my computer can handle is about 1000000 rows and columns"
   ]
  }
 ],
 "metadata": {
  "kernelspec": {
   "display_name": "Julia 1.2.0",
   "language": "julia",
   "name": "julia-1.2"
  },
  "language_info": {
   "file_extension": ".jl",
   "mimetype": "application/julia",
   "name": "julia",
   "version": "1.2.0"
  }
 },
 "nbformat": 4,
 "nbformat_minor": 2
}
