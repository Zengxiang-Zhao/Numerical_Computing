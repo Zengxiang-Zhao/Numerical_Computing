{
 "cells": [
  {
   "cell_type": "markdown",
   "metadata": {},
   "source": [
    "### Question 1.  define a Julia function generatevectorlist(n, k) : making a list (array) of n vectors each of which is of length k."
   ]
  },
  {
   "cell_type": "code",
   "execution_count": 9,
   "metadata": {},
   "outputs": [
    {
     "name": "stdout",
     "output_type": "stream",
     "text": [
      "\u001b[32m\u001b[1m  Updating\u001b[22m\u001b[39m registry at `~/.julia/registries/General`\n",
      "\u001b[32m\u001b[1m  Updating\u001b[22m\u001b[39m git-repo `https://github.com/JuliaRegistries/General.git`\n",
      "\u001b[2K\u001b[?25h[1mFetching:\u001b[22m\u001b[39m [========================================>]  99.9 %0.0 %12.1 %==========>                              ]  24.3 %]  36.3 %====================>                    ]  48.4 %>             ]  66.4 %================================>        ]  78.5 %90.5 %\u001b[36m\u001b[1mFetching:\u001b[22m\u001b[39m [=======================================> ]  96.0 %\u001b[32m\u001b[1m Resolving\u001b[22m\u001b[39m package versions...\n",
      "\u001b[32m\u001b[1m Installed\u001b[22m\u001b[39m Mocking ─────────── v0.7.0\n",
      "\u001b[32m\u001b[1m Installed\u001b[22m\u001b[39m PDMats ──────────── v0.9.10\n",
      "\u001b[32m\u001b[1m Installed\u001b[22m\u001b[39m FillArrays ──────── v0.7.0\n",
      "\u001b[32m\u001b[1m Installed\u001b[22m\u001b[39m Parameters ──────── v0.12.0\n",
      "\u001b[32m\u001b[1m Installed\u001b[22m\u001b[39m CategoricalArrays ─ v0.6.0\n",
      "\u001b[32m\u001b[1m Installed\u001b[22m\u001b[39m DataFrames ──────── v0.19.4\n",
      "\u001b[32m\u001b[1m Installed\u001b[22m\u001b[39m TimeZones ───────── v0.10.0\n",
      "\u001b[32m\u001b[1m Installed\u001b[22m\u001b[39m Widgets ─────────── v0.6.2\n",
      "\u001b[32m\u001b[1m Installed\u001b[22m\u001b[39m Optim ───────────── v0.19.3\n",
      "\u001b[32m\u001b[1m Installed\u001b[22m\u001b[39m CSV ─────────────── v0.5.12\n",
      "\u001b[32m\u001b[1m  Updating\u001b[22m\u001b[39m `~/.julia/environments/v1.2/Project.toml`\n",
      " \u001b[90m [31c24e10]\u001b[39m\u001b[92m + Distributions v0.19.2\u001b[39m\n",
      "\u001b[32m\u001b[1m  Updating\u001b[22m\u001b[39m `~/.julia/environments/v1.2/Manifest.toml`\n",
      " \u001b[90m [336ed68f]\u001b[39m\u001b[93m ↑ CSV v0.5.11 ⇒ v0.5.12\u001b[39m\n",
      " \u001b[90m [324d7699]\u001b[39m\u001b[93m ↑ CategoricalArrays v0.5.5 ⇒ v0.6.0\u001b[39m\n",
      " \u001b[90m [a93c6f00]\u001b[39m\u001b[93m ↑ DataFrames v0.19.3 ⇒ v0.19.4\u001b[39m\n",
      " \u001b[90m [1a297f60]\u001b[39m\u001b[93m ↑ FillArrays v0.6.4 ⇒ v0.7.0\u001b[39m\n",
      " \u001b[90m [78c3b35d]\u001b[39m\u001b[93m ↑ Mocking v0.6.0 ⇒ v0.7.0\u001b[39m\n",
      " \u001b[90m [429524aa]\u001b[39m\u001b[93m ↑ Optim v0.19.2 ⇒ v0.19.3\u001b[39m\n",
      " \u001b[90m [90014a1f]\u001b[39m\u001b[93m ↑ PDMats v0.9.9 ⇒ v0.9.10\u001b[39m\n",
      " \u001b[90m [d96e819e]\u001b[39m\u001b[93m ↑ Parameters v0.10.3 ⇒ v0.12.0\u001b[39m\n",
      " \u001b[90m [f269a46b]\u001b[39m\u001b[93m ↑ TimeZones v0.9.2 ⇒ v0.10.0\u001b[39m\n",
      " \u001b[90m [cc8bc4a8]\u001b[39m\u001b[93m ↑ Widgets v0.6.1 ⇒ v0.6.2\u001b[39m\n",
      "\u001b[32m\u001b[1m  Building\u001b[22m\u001b[39m TimeZones → `~/.julia/packages/TimeZones/UXytc/deps/build.log`\n"
     ]
    }
   ],
   "source": [
    "using Pkg\n",
    "Pkg.add(\"Distributions\")\n"
   ]
  },
  {
   "cell_type": "code",
   "execution_count": 10,
   "metadata": {},
   "outputs": [
    {
     "name": "stderr",
     "output_type": "stream",
     "text": [
      "┌ Info: Precompiling Distributions [31c24e10-a181-5473-b8eb-7969acd0382f]\n",
      "└ @ Base loading.jl:1242\n",
      "┌ Warning: `lgamma(x::Real)` is deprecated, use `(logabsgamma(x))[1]` instead.\n",
      "│   caller = lstirling_asym(::BigFloat) at misc.jl:56\n",
      "└ @ StatsFuns ~/.julia/packages/StatsFuns/2QE7p/src/misc.jl:56\n"
     ]
    }
   ],
   "source": [
    "using Distributions"
   ]
  },
  {
   "cell_type": "code",
   "execution_count": 11,
   "metadata": {},
   "outputs": [
    {
     "data": {
      "text/plain": [
       "generatevectorlist (generic function with 1 method)"
      ]
     },
     "execution_count": 11,
     "metadata": {},
     "output_type": "execute_result"
    }
   ],
   "source": [
    "function generatevectorlist(n::Int64, k::Int64)\n",
    "    \n",
    "    ls = []\n",
    "    for _ in 1:n\n",
    "        ls = append!(ls, [rand(Normal(0,1),k)])\n",
    "    end\n",
    "    ls\n",
    "end"
   ]
  },
  {
   "cell_type": "markdown",
   "metadata": {},
   "source": [
    "### Question 2: A cell with the function call that makes a list x of 5 vectors each of length 3:"
   ]
  },
  {
   "cell_type": "code",
   "execution_count": 12,
   "metadata": {
    "scrolled": true
   },
   "outputs": [
    {
     "data": {
      "text/plain": [
       "5-element Array{Any,1}:\n",
       " [-1.5187206244445282, 0.5793434382951507, 1.3579668005041339] \n",
       " [0.005936397284809032, 0.7003155685199485, 0.7331415220233969]\n",
       " [-0.4151905885344155, 1.2693614033489857, 0.9664540223444359] \n",
       " [0.880394769842293, -0.5486840723429499, 0.9324001299376656]  \n",
       " [-0.2901425675236978, 1.134747283703641, 1.151408264694852]   "
      ]
     },
     "execution_count": 12,
     "metadata": {},
     "output_type": "execute_result"
    }
   ],
   "source": [
    "x = generatevectorlist(5,3)"
   ]
  },
  {
   "cell_type": "markdown",
   "metadata": {},
   "source": [
    "### Question 3 : A cell containing the definition of a second method for the generatevectorlist function."
   ]
  },
  {
   "cell_type": "code",
   "execution_count": 13,
   "metadata": {},
   "outputs": [
    {
     "data": {
      "text/plain": [
       "generatevectorlist (generic function with 2 methods)"
      ]
     },
     "execution_count": 13,
     "metadata": {},
     "output_type": "execute_result"
    }
   ],
   "source": [
    "generatevectorlist() = generatevectorlist(10,4)"
   ]
  },
  {
   "cell_type": "markdown",
   "metadata": {},
   "source": [
    "### Question 4 : A cell with the function call generatevectorlist()"
   ]
  },
  {
   "cell_type": "code",
   "execution_count": 14,
   "metadata": {},
   "outputs": [
    {
     "data": {
      "text/plain": [
       "10-element Array{Any,1}:\n",
       " [-1.6770184317300063, -0.7438847742438816, -2.4244636038126757, 1.2537046640093006]  \n",
       " [1.353778827070885, 0.1603559575723369, 1.0486170673892719, 0.40345643474690224]     \n",
       " [-0.2693889067587757, 0.08585439887870286, 1.2445711690644063, 0.7235369819712812]   \n",
       " [-1.7226079573951765, -0.061210136678212484, 2.369971379828042, -0.08935038626145769]\n",
       " [-1.3568685011168748, -2.4230728947847138, -1.1966259019142755, 1.087940863446087]   \n",
       " [-1.385651048880047, -0.29846318122088294, 0.09621551743245721, 0.6984531736254221]  \n",
       " [-1.2891259580802075, 0.03357062342015867, 1.774804920879201, -0.6614236971826264]   \n",
       " [-1.111942956031147, 0.5285451667096547, -1.2665209403086217, -1.1092836820053364]   \n",
       " [1.28886026907558, -1.9357040313777665, 1.4822441730401357, -0.8866183477355779]     \n",
       " [0.253156711483983, -0.050926650088072144, -0.5386687825434222, 2.509894768062255]   "
      ]
     },
     "execution_count": 14,
     "metadata": {},
     "output_type": "execute_result"
    }
   ],
   "source": [
    "generatevectorlist()"
   ]
  },
  {
   "cell_type": "markdown",
   "metadata": {},
   "source": [
    "### Question 5 : A cell containing the definition of a third method for the generatevectorlist function"
   ]
  },
  {
   "cell_type": "code",
   "execution_count": 15,
   "metadata": {},
   "outputs": [
    {
     "data": {
      "text/plain": [
       "generatevectorlist (generic function with 3 methods)"
      ]
     },
     "execution_count": 15,
     "metadata": {},
     "output_type": "execute_result"
    }
   ],
   "source": [
    "generatevectorlist(n) = generatevectorlist(n, 5)"
   ]
  },
  {
   "cell_type": "markdown",
   "metadata": {},
   "source": [
    "### Question 6 : A cell with the function call generatevectorlist(100)"
   ]
  },
  {
   "cell_type": "code",
   "execution_count": 16,
   "metadata": {},
   "outputs": [
    {
     "data": {
      "text/plain": [
       "100-element Array{Any,1}:\n",
       " [0.07188079076768437, 0.27031952719729463, 2.086497881688037, 0.8950943992067418, -0.8284201048157297]     \n",
       " [0.9051131454797043, -0.40070882780666967, -1.8235587118496424, -0.02720637793883278, -2.0694939876424088] \n",
       " [-0.3817203412105527, 0.41279609133847756, 0.5012924039252051, -1.198994764785284, -0.06534360439339441]   \n",
       " [0.9533802767108546, -0.8617666461370748, -0.64758004727929, -0.04823261229717292, -0.7844960167370533]    \n",
       " [0.07413717420862936, 1.69977372681097, -0.4296357998157008, 0.40184760186989715, -0.5990402127403252]     \n",
       " [-1.5188257152366178, -0.08563315667435445, -0.10235590670491536, -0.07317325181123953, 0.8612397299733582]\n",
       " [0.5724385486333265, -0.0007421226819572462, -0.3128297203928617, -0.7744931257378295, 1.130666517901937]  \n",
       " [0.6480860894568, 1.1905273500417581, -0.9256519624208328, 0.8708488863823467, -1.0792485967869019]        \n",
       " [-2.2079945455800147, 0.21045725825594067, -0.13900297340029197, 0.30270999128406645, -0.7576926740909046] \n",
       " [1.9467295353762695, -1.336131946629644, -0.13320708768925688, -0.5175639999794346, 0.22629594370690861]   \n",
       " [-0.6291387596690267, 0.300592654177309, 1.6005253889489381, 1.8423067149983625, 0.048992084756120144]     \n",
       " [0.13965953288526636, -0.4849607299531878, 0.4483148738921555, 0.8641262175056538, 0.574328898777031]      \n",
       " [1.6578055168359718, -0.6584659926313365, -0.7552251779670696, 0.36749578527040316, -0.7476127221507115]   \n",
       " ⋮                                                                                                          \n",
       " [0.15375809469145596, -0.09273973609698757, -0.9475976698039823, 0.5539709306899064, -1.4057338987111]     \n",
       " [0.42316365029056896, -0.6893256774845323, 0.01833563098962249, 0.4393729845571695, 1.5625544543573573]    \n",
       " [-0.9245962407111771, 0.9183663550881758, -0.2484674042029774, -1.3119125681905126, -0.11199046452708718]  \n",
       " [0.3650318620816078, 0.4906712189510796, -0.286200743162661, -1.316568107861046, -0.42473969091200386]     \n",
       " [-0.7252170058924539, 0.21219727078559023, 0.7262252523845344, 1.316265072427227, 0.2845283477311931]      \n",
       " [-1.5642893463299534, 0.5811167421247002, 1.155918908964162, 0.733318273855935, -1.5699662695082037]       \n",
       " [-1.6175501918913529, 0.86342196557131, 0.31186188666514686, 0.818595135977444, 0.024243144736860518]      \n",
       " [-0.7224728185883676, 1.039843254843065, 0.09203518744808745, 1.6751807376604109, -1.3268999714448506]     \n",
       " [-0.04106770686241761, -0.9167378629375427, 1.1941432954757722, 0.6347168204949368, -0.08925259330391792]  \n",
       " [-1.8285110541139324, 0.27619777441461446, -0.607754707036026, 1.3492646496958194, -0.3223798049231423]    \n",
       " [1.8543145001782928, 1.0477538041068486, -0.6433638900073325, -2.3035984877687152, 0.12496024147913568]    \n",
       " [-0.36480946958078847, 1.2074871383101329, -0.7440639782645254, -0.038066452845438255, 1.6937766361120135] "
      ]
     },
     "execution_count": 16,
     "metadata": {},
     "output_type": "execute_result"
    }
   ],
   "source": [
    "generatevectorlist(100)"
   ]
  },
  {
   "cell_type": "markdown",
   "metadata": {},
   "source": [
    "### Question 7 : A cell containing the definition of a Julia function combinelinearly(scales, vectors)"
   ]
  },
  {
   "cell_type": "code",
   "execution_count": 29,
   "metadata": {},
   "outputs": [
    {
     "data": {
      "text/plain": [
       "combinelinearly (generic function with 3 methods)"
      ]
     },
     "execution_count": 29,
     "metadata": {},
     "output_type": "execute_result"
    }
   ],
   "source": [
    "function combinelinearly(scales::Array{Float64,1}, vectors::Array{Any,1})\n",
    "\n",
    "    @assert length(scales) == length(vectors) \"scales and vectors are supposedly of the same length\"\n",
    "    res = zeros(length(vectors[1]))\n",
    "    for i in 1:length(scales)\n",
    "        res += scales[i] * vectors[i]\n",
    "    end\n",
    "    return res\n",
    "end\n",
    "     "
   ]
  },
  {
   "cell_type": "markdown",
   "metadata": {},
   "source": [
    "### Question 8 : A cell that makes a list z of 5 numbers randomly but uniformly distributed between 0 and 1."
   ]
  },
  {
   "cell_type": "code",
   "execution_count": 22,
   "metadata": {
    "scrolled": false
   },
   "outputs": [
    {
     "data": {
      "text/plain": [
       "5-element Array{Float64,1}:\n",
       " 0.8038515322875612 \n",
       " 0.570998702837886  \n",
       " 0.38547108929423124\n",
       " 0.15275171165576462\n",
       " 0.6939547367095582 "
      ]
     },
     "execution_count": 22,
     "metadata": {},
     "output_type": "execute_result"
    }
   ],
   "source": [
    "z = rand(5)"
   ]
  },
  {
   "cell_type": "markdown",
   "metadata": {},
   "source": [
    "### Question 9 : A cell that calls combinelinearly on z and x, of 8. and 2. above."
   ]
  },
  {
   "cell_type": "code",
   "execution_count": 19,
   "metadata": {
    "scrolled": true
   },
   "outputs": [
    {
     "data": {
      "text/plain": [
       "3-element Array{Float64,1}:\n",
       " -0.5321765608248795\n",
       "  1.5075322088752978\n",
       "  2.5184930254672944"
      ]
     },
     "execution_count": 19,
     "metadata": {},
     "output_type": "execute_result"
    }
   ],
   "source": [
    "combinelinearly(z, x)"
   ]
  },
  {
   "cell_type": "markdown",
   "metadata": {},
   "source": [
    "### Question 10 : A cell that shows the time for calling combinelinearly on 10,000,000 (ten million) random numbers, and 10,000,000 random vectors, each of length 50, obtained by generatevectorlist."
   ]
  },
  {
   "cell_type": "code",
   "execution_count": 40,
   "metadata": {},
   "outputs": [
    {
     "name": "stdout",
     "output_type": "stream",
     "text": [
      "  7.489644 seconds (50.02 M allocations: 4.821 GiB, 44.29% gc time)\n"
     ]
    },
    {
     "data": {
      "text/plain": [
       "5-element Array{Float64,1}:\n",
       " -2462.716233440828 \n",
       "  2816.055198898732 \n",
       " -3789.835975896985 \n",
       "   956.4797463587746\n",
       "  2694.4492886602675"
      ]
     },
     "execution_count": 40,
     "metadata": {},
     "output_type": "execute_result"
    }
   ],
   "source": [
    "@time combinelinearly(rand(10_000_000), generatevectorlist(10_000_000, 5))"
   ]
  },
  {
   "cell_type": "markdown",
   "metadata": {},
   "source": [
    "### Question 11 : A cell containing the definition of a Julia function combinelinearlyshort(scales, vectors)"
   ]
  },
  {
   "cell_type": "code",
   "execution_count": 44,
   "metadata": {},
   "outputs": [
    {
     "data": {
      "text/plain": [
       "combinelinearlyshort (generic function with 1 method)"
      ]
     },
     "execution_count": 44,
     "metadata": {},
     "output_type": "execute_result"
    }
   ],
   "source": [
    "function combinelinearlyshort(scales::Array{Float64,1}, vectors::Array{Any,1})\n",
    "    @assert length(scales) == length(vectors) \"scales and vectors are supposedly of the same length\"\n",
    "    sum(scales .* vectors)\n",
    "end"
   ]
  },
  {
   "cell_type": "markdown",
   "metadata": {},
   "source": [
    "### Question 12 : A cell that shows the time for calling combinelinearlyshort on 10,000,000 (ten million) random numbers, and 10,000,000 random vectors, each of length 50, obtained by generatevectorlist. Just one line in this cell. Which seems to be faster, combinelinearly or combinelinearlyshort?"
   ]
  },
  {
   "cell_type": "code",
   "execution_count": 45,
   "metadata": {
    "scrolled": true
   },
   "outputs": [
    {
     "name": "stdout",
     "output_type": "stream",
     "text": [
      "  9.006511 seconds (60.71 M allocations: 5.080 GiB, 57.69% gc time)\n"
     ]
    },
    {
     "data": {
      "text/plain": [
       "5-element Array{Float64,1}:\n",
       "  1329.4794346851736 \n",
       "    98.87897568065796\n",
       "   917.5944057678262 \n",
       " -2064.687718062536  \n",
       "  3499.162093483321  "
      ]
     },
     "execution_count": 45,
     "metadata": {},
     "output_type": "execute_result"
    }
   ],
   "source": [
    "@time combinelinearlyshort(rand(10_000_000), generatevectorlist(10_000_000, 5))"
   ]
  },
  {
   "cell_type": "markdown",
   "metadata": {},
   "source": [
    "### Summary: the first method with for loop seems to be faster"
   ]
  }
 ],
 "metadata": {
  "kernelspec": {
   "display_name": "Julia 1.2.0",
   "language": "julia",
   "name": "julia-1.2"
  },
  "language_info": {
   "file_extension": ".jl",
   "mimetype": "application/julia",
   "name": "julia",
   "version": "1.2.0"
  }
 },
 "nbformat": 4,
 "nbformat_minor": 2
}
