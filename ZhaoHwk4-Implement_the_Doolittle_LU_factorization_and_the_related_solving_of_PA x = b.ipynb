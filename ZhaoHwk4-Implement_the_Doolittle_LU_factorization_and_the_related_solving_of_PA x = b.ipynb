{
 "cells": [
  {
   "cell_type": "code",
   "execution_count": 1,
   "metadata": {},
   "outputs": [
    {
     "data": {
      "text/plain": [
       "error (generic function with 1 method)"
      ]
     },
     "execution_count": 1,
     "metadata": {},
     "output_type": "execute_result"
    }
   ],
   "source": [
    "function error(errstring)\n",
    "    println(errstring)\n",
    "    input = readline()\n",
    "    \n",
    "end\n"
   ]
  },
  {
   "cell_type": "code",
   "execution_count": 2,
   "metadata": {},
   "outputs": [
    {
     "data": {
      "text/plain": [
       "swapRows! (generic function with 1 method)"
      ]
     },
     "execution_count": 2,
     "metadata": {},
     "output_type": "execute_result"
    }
   ],
   "source": [
    "function swapRows!(A,i,j)\n",
    "    if ndims(A) == 1\n",
    "        A[i],A[j] = A[j],A[i]\n",
    "    else\n",
    "        A[i,:],A[j,:] = A[j,:],A[i,:]\n",
    "    end\n",
    "    return A\n",
    "end"
   ]
  },
  {
   "cell_type": "markdown",
   "metadata": {},
   "source": [
    "### Question 1"
   ]
  },
  {
   "cell_type": "code",
   "execution_count": 3,
   "metadata": {},
   "outputs": [
    {
     "data": {
      "text/plain": [
       "luPivotDecompose (generic function with 2 methods)"
      ]
     },
     "execution_count": 3,
     "metadata": {},
     "output_type": "execute_result"
    }
   ],
   "source": [
    "using LinearAlgebra\n",
    "function luPivotDecompose(A::Array{Float64,2}, tol=1.0e-9)\n",
    "    n = length(A[:,1])\n",
    "    count = 0 # store the number of swaps\n",
    "    \n",
    "    #store the sequence of the permutation of the rows\n",
    "    seq = collect(1:n)\n",
    "    \n",
    "#     set up scale factors\n",
    "    s = zeros(n)\n",
    "    for i in 1:n\n",
    "        s[i] = maximum(abs.(A[i,:]))\n",
    "    end\n",
    "    \n",
    "    \n",
    "    # Row interchange, if needed\n",
    "    for k in 1:n-1\n",
    "        \n",
    "        p = argmax(abs.(A[k:n,k]) ./ s[k:n]) +k -1\n",
    "     \n",
    "\n",
    "        if abs(A[p,k]) < tol\n",
    "            error(\"Matrix is singular\")\n",
    "        end\n",
    "        \n",
    "        if p != k\n",
    "            swapRows!(seq,k,p)\n",
    "            swapRows!(s,k,p)\n",
    "            swapRows!(A,k,p)\n",
    "            count += 1\n",
    "        end   \n",
    "        \n",
    "        # Elimination\n",
    "        for i in k+1:n\n",
    "            if A[i,k] != 0.0\n",
    "                lam = A[i,k] / A[k,k]\n",
    "                A[i,k+1:n] = A[i,k+1:n] - lam * A[k,k+1:n]\n",
    "                A[i,k] = lam # Lower triangle entry\n",
    "            end\n",
    "        end\n",
    "    end\n",
    "    \n",
    "    if abs(A[n,n]) < tol\n",
    "        error(\"Matrix is singular\")\n",
    "    end\n",
    "    \n",
    "    return A,seq,count\n",
    "    \n",
    "end\n",
    "\n"
   ]
  },
  {
   "cell_type": "markdown",
   "metadata": {},
   "source": [
    "### Question 2"
   ]
  },
  {
   "cell_type": "code",
   "execution_count": 4,
   "metadata": {},
   "outputs": [
    {
     "data": {
      "text/plain": [
       "luPivotSolve (generic function with 1 method)"
      ]
     },
     "execution_count": 4,
     "metadata": {},
     "output_type": "execute_result"
    }
   ],
   "source": [
    "function luPivotSolve(A::Array{Float64,2}, b::Array{Float64,1}, seq::Array{Int64,1})\n",
    "    n = length(A[:,1])\n",
    "    \n",
    "    # Rearrange constant vector; store it in [x]\n",
    "    x = copy(b)\n",
    "    for i in 1:n\n",
    "        x[i] = b[seq[i]]\n",
    "    end\n",
    "    \n",
    "    # Solution\n",
    "    #Forward substitution\n",
    "    for k in 2:n\n",
    "        x[k] = x[k] - LinearAlgebra.dot(A[k,1:k-1],x[1:k-1])\n",
    "    end\n",
    "    \n",
    "    # Back substitution\n",
    "    x[n] = x[n]/A[n,n]\n",
    "    for k in n-1:-1:1\n",
    "        x[k] = (x[k] - dot(A[k,k+1:n],x[k+1:n]))/A[k,k]\n",
    "    end\n",
    "    \n",
    "    return x\n",
    "end"
   ]
  },
  {
   "cell_type": "markdown",
   "metadata": {},
   "source": [
    "### Question 3 : Compare methods with large random matrices and vectors"
   ]
  },
  {
   "cell_type": "code",
   "execution_count": 5,
   "metadata": {
    "scrolled": true
   },
   "outputs": [
    {
     "data": {
      "text/plain": [
       "1000×1000 Array{Float64,2}:\n",
       " 0.0605924  0.0669169  0.94833    …  0.414362    0.114062   0.480882  \n",
       " 0.341081   0.116668   0.137152      0.46496     0.0640719  0.248693  \n",
       " 0.815593   0.0859542  0.226785      0.394851    0.40925    0.775817  \n",
       " 0.19725    0.867762   0.13232       0.74098     0.130002   0.051102  \n",
       " 0.249262   0.999397   0.597381      0.926297    0.815777   0.165565  \n",
       " 0.730319   0.928283   0.801096   …  0.608958    0.680293   0.200707  \n",
       " 0.253218   0.540924   0.767222      0.912933    0.532453   0.251979  \n",
       " 0.127071   0.79517    0.217983      0.24927     0.299723   0.411906  \n",
       " 0.524867   0.905576   0.228524      0.516371    0.38944    0.518536  \n",
       " 0.842023   0.294558   0.265709      0.00374739  0.0504173  0.760731  \n",
       " 0.281455   0.270139   0.728097   …  0.268755    0.25914    0.555953  \n",
       " 0.844446   0.414754   0.0371038     0.0186595   0.114925   0.00615799\n",
       " 0.751466   0.790342   0.717775      0.842821    0.350749   0.873764  \n",
       " ⋮                                ⋱                                   \n",
       " 0.582021   0.275617   0.738847      0.828562    0.577225   0.967427  \n",
       " 0.794744   0.655186   0.569286      0.374545    0.28662    0.278854  \n",
       " 0.326426   0.151652   0.653933   …  0.0483052   0.860654   0.829133  \n",
       " 0.110769   0.200002   0.146665      0.763975    0.354046   0.935424  \n",
       " 0.88071    0.205193   0.757876      0.984328    0.933167   0.281263  \n",
       " 0.374403   0.54322    0.472972      0.522212    0.169686   0.104413  \n",
       " 0.752009   0.290915   0.603903      0.349307    0.865446   0.0633919 \n",
       " 0.890089   0.610691   0.908205   …  0.874796    0.45832    0.393536  \n",
       " 0.63615    0.479802   0.455666      0.0538535   0.741002   0.497498  \n",
       " 0.925782   0.457564   0.448953      0.211553    0.0286618  0.551758  \n",
       " 0.967472   0.312805   0.887428      0.885615    0.420606   0.531163  \n",
       " 0.578407   0.664019   0.458966      0.041899    0.130429   0.206129  "
      ]
     },
     "execution_count": 5,
     "metadata": {},
     "output_type": "execute_result"
    }
   ],
   "source": [
    "matrix_a = rand(1000,1000)"
   ]
  },
  {
   "cell_type": "markdown",
   "metadata": {},
   "source": [
    "##### original_matrix will be used by left division \\ of Julia method"
   ]
  },
  {
   "cell_type": "code",
   "execution_count": 6,
   "metadata": {},
   "outputs": [
    {
     "data": {
      "text/plain": [
       "1000×1000 Array{Float64,2}:\n",
       " 0.0605924  0.0669169  0.94833    …  0.414362    0.114062   0.480882  \n",
       " 0.341081   0.116668   0.137152      0.46496     0.0640719  0.248693  \n",
       " 0.815593   0.0859542  0.226785      0.394851    0.40925    0.775817  \n",
       " 0.19725    0.867762   0.13232       0.74098     0.130002   0.051102  \n",
       " 0.249262   0.999397   0.597381      0.926297    0.815777   0.165565  \n",
       " 0.730319   0.928283   0.801096   …  0.608958    0.680293   0.200707  \n",
       " 0.253218   0.540924   0.767222      0.912933    0.532453   0.251979  \n",
       " 0.127071   0.79517    0.217983      0.24927     0.299723   0.411906  \n",
       " 0.524867   0.905576   0.228524      0.516371    0.38944    0.518536  \n",
       " 0.842023   0.294558   0.265709      0.00374739  0.0504173  0.760731  \n",
       " 0.281455   0.270139   0.728097   …  0.268755    0.25914    0.555953  \n",
       " 0.844446   0.414754   0.0371038     0.0186595   0.114925   0.00615799\n",
       " 0.751466   0.790342   0.717775      0.842821    0.350749   0.873764  \n",
       " ⋮                                ⋱                                   \n",
       " 0.582021   0.275617   0.738847      0.828562    0.577225   0.967427  \n",
       " 0.794744   0.655186   0.569286      0.374545    0.28662    0.278854  \n",
       " 0.326426   0.151652   0.653933   …  0.0483052   0.860654   0.829133  \n",
       " 0.110769   0.200002   0.146665      0.763975    0.354046   0.935424  \n",
       " 0.88071    0.205193   0.757876      0.984328    0.933167   0.281263  \n",
       " 0.374403   0.54322    0.472972      0.522212    0.169686   0.104413  \n",
       " 0.752009   0.290915   0.603903      0.349307    0.865446   0.0633919 \n",
       " 0.890089   0.610691   0.908205   …  0.874796    0.45832    0.393536  \n",
       " 0.63615    0.479802   0.455666      0.0538535   0.741002   0.497498  \n",
       " 0.925782   0.457564   0.448953      0.211553    0.0286618  0.551758  \n",
       " 0.967472   0.312805   0.887428      0.885615    0.420606   0.531163  \n",
       " 0.578407   0.664019   0.458966      0.041899    0.130429   0.206129  "
      ]
     },
     "execution_count": 6,
     "metadata": {},
     "output_type": "execute_result"
    }
   ],
   "source": [
    "original_matrix = copy(matrix_a)"
   ]
  },
  {
   "cell_type": "code",
   "execution_count": 7,
   "metadata": {},
   "outputs": [
    {
     "data": {
      "text/plain": [
       "1000-element Array{Float64,1}:\n",
       " 0.538038343573217   \n",
       " 0.8281423038141411  \n",
       " 0.42769561049940674 \n",
       " 0.5787672256266296  \n",
       " 0.5209461473186967  \n",
       " 0.8246947755523861  \n",
       " 0.08776817761541889 \n",
       " 0.6703820732114947  \n",
       " 0.8571021365879554  \n",
       " 0.09207559255489373 \n",
       " 0.9015637313954581  \n",
       " 0.25788387134328117 \n",
       " 0.7464196530244696  \n",
       " ⋮                   \n",
       " 0.4231893422930817  \n",
       " 0.06921288731502062 \n",
       " 0.7292763049705191  \n",
       " 0.026520427780990508\n",
       " 0.1693194719793394  \n",
       " 0.4585882013043936  \n",
       " 0.520486813158676   \n",
       " 0.6545926192511731  \n",
       " 0.970708792938549   \n",
       " 0.8378840078533776  \n",
       " 0.326728625846719   \n",
       " 0.6288528118602978  "
      ]
     },
     "execution_count": 7,
     "metadata": {},
     "output_type": "execute_result"
    }
   ],
   "source": [
    "vector_b = rand(1000)"
   ]
  },
  {
   "cell_type": "markdown",
   "metadata": {},
   "source": [
    "#### left division \\ of Julia outputs,"
   ]
  },
  {
   "cell_type": "code",
   "execution_count": 8,
   "metadata": {},
   "outputs": [
    {
     "name": "stdout",
     "output_type": "stream",
     "text": [
      "  1.117274 seconds (3.88 M allocations: 195.052 MiB, 8.98% gc time)\n",
      "elapsed time (ns): 1117273864\n",
      "gc time (ns):      100342544\n",
      "bytes allocated:   204526867\n",
      "pool allocs:       3878830\n",
      "non-pool GC allocs:730\n",
      "malloc() calls:    2\n",
      "GC pauses:         9\n",
      "full collections:  1\n"
     ]
    },
    {
     "data": {
      "text/plain": [
       "1000-element Array{Float64,1}:\n",
       " -0.5653400137791599 \n",
       "  2.675428884082731  \n",
       " -1.3236915501569355 \n",
       "  2.219771864317339  \n",
       " -0.7766467519144182 \n",
       "  1.7682696918023584 \n",
       " -0.5429135994720874 \n",
       "  2.344787000364937  \n",
       " -1.028706531572718  \n",
       " -0.9927269001136549 \n",
       "  2.0524810968514506 \n",
       " -1.663848461364546  \n",
       " -0.5979097132200833 \n",
       "  ⋮                  \n",
       " -0.871580480846344  \n",
       "  0.09189021661637485\n",
       " -1.6190729657273955 \n",
       "  1.1845160546385638 \n",
       " -0.08137400532450671\n",
       " -0.4907170617113744 \n",
       " -0.7796153777428771 \n",
       " -0.5057267258144883 \n",
       "  2.157775606411845  \n",
       "  0.05259217174482376\n",
       "  1.7026203846277552 \n",
       " -0.4438524289104407 "
      ]
     },
     "execution_count": 8,
     "metadata": {},
     "output_type": "execute_result"
    }
   ],
   "source": [
    "@timev original_matrix \\ vector_b"
   ]
  },
  {
   "cell_type": "markdown",
   "metadata": {},
   "source": [
    "## test and time the function of luPivotDecompose and luPivotSolve "
   ]
  },
  {
   "cell_type": "markdown",
   "metadata": {},
   "source": [
    "### First Comparision"
   ]
  },
  {
   "cell_type": "code",
   "execution_count": 9,
   "metadata": {},
   "outputs": [
    {
     "name": "stdout",
     "output_type": "stream",
     "text": [
      "  3.940853 seconds (3.73 M allocations: 10.333 GiB, 21.40% gc time)\n",
      "elapsed time (ns): 3940853009\n",
      "gc time (ns):      843170223\n",
      "bytes allocated:   11095012350\n",
      "pool allocs:       1841508\n",
      "non-pool GC allocs:1884958\n",
      "GC pauses:         484\n"
     ]
    },
    {
     "data": {
      "text/plain": [
       "([0.9950540439624183 0.08920032260477861 … 0.747382052466141 0.8473448483879504; 0.14702771266313255 0.9862964500070758 … 0.39601733968605246 0.3750265751610564; … ; 0.8044779173976688 0.3601248124557466 … 0.2629271897605229 4.607316593532188; 0.8572640756406805 0.37827902455426393 … 0.2521230741354221 2.42378220549295], [851, 492, 1, 670, 962, 958, 917, 30, 534, 264  …  545, 827, 131, 812, 716, 374, 742, 807, 801, 692], 994)"
      ]
     },
     "execution_count": 9,
     "metadata": {},
     "output_type": "execute_result"
    }
   ],
   "source": [
    "@timev M,seq,swaps = luPivotDecompose(matrix_a)"
   ]
  },
  {
   "cell_type": "code",
   "execution_count": 10,
   "metadata": {},
   "outputs": [
    {
     "name": "stdout",
     "output_type": "stream",
     "text": [
      "  0.082095 seconds (155.99 k allocations: 23.455 MiB, 8.24% gc time)\n",
      "elapsed time (ns): 82095454\n",
      "gc time (ns):      6763369\n",
      "bytes allocated:   24594806\n",
      "pool allocs:       152931\n",
      "non-pool GC allocs:3056\n",
      "GC pauses:         1\n"
     ]
    },
    {
     "data": {
      "text/plain": [
       "1000-element Array{Float64,1}:\n",
       " -0.5653400137734165 \n",
       "  2.675428884053163  \n",
       " -1.3236915501401103 \n",
       "  2.2197718642862623 \n",
       " -0.7766467519105674 \n",
       "  1.7682696917911538 \n",
       " -0.5429135994624232 \n",
       "  2.3447870003405646 \n",
       " -1.0287065315574766 \n",
       " -0.9927269001064436 \n",
       "  2.052481096829756  \n",
       " -1.6638484613569704 \n",
       " -0.5979097132120889 \n",
       "  ⋮                  \n",
       " -0.8715804808433788 \n",
       "  0.09189021662020254\n",
       " -1.6190729657070666 \n",
       "  1.184516054628251  \n",
       " -0.08137400533279138\n",
       " -0.49071706170407026\n",
       " -0.7796153777234731 \n",
       " -0.5057267257921866 \n",
       "  2.157775606389848  \n",
       "  0.05259217174624653\n",
       "  1.7026203846078052 \n",
       " -0.44385242890929766"
      ]
     },
     "execution_count": 10,
     "metadata": {},
     "output_type": "execute_result"
    }
   ],
   "source": [
    "@timev luPivotSolve(M,vector_b,seq)"
   ]
  },
  {
   "cell_type": "markdown",
   "metadata": {},
   "source": [
    "### Scond Comparision"
   ]
  },
  {
   "cell_type": "code",
   "execution_count": 11,
   "metadata": {},
   "outputs": [
    {
     "data": {
      "text/plain": [
       "1000-element Array{Float64,1}:\n",
       " 0.23358070394993824 \n",
       " 0.22807633501268976 \n",
       " 0.9952981719427152  \n",
       " 0.20774873298308583 \n",
       " 0.8318234240255791  \n",
       " 0.9592318458375226  \n",
       " 0.8940150610391406  \n",
       " 0.10155888472500774 \n",
       " 0.24644238669621488 \n",
       " 0.15779305570098945 \n",
       " 0.7144027904078731  \n",
       " 0.18792699558199377 \n",
       " 0.01904637556714639 \n",
       " ⋮                   \n",
       " 0.52463018370925    \n",
       " 0.06625797095009633 \n",
       " 0.255743703441206   \n",
       " 0.7377625742922584  \n",
       " 0.04326059012631078 \n",
       " 0.8099299819572774  \n",
       " 0.3009957966729322  \n",
       " 0.033314033941038934\n",
       " 0.8087379345613932  \n",
       " 0.567722748123825   \n",
       " 0.2011184466573428  \n",
       " 0.40463150705956763 "
      ]
     },
     "execution_count": 11,
     "metadata": {},
     "output_type": "execute_result"
    }
   ],
   "source": [
    "vector_b2 = rand(1000)"
   ]
  },
  {
   "cell_type": "code",
   "execution_count": 12,
   "metadata": {},
   "outputs": [
    {
     "name": "stdout",
     "output_type": "stream",
     "text": [
      "  0.033765 seconds (9 allocations: 7.645 MiB, 18.07% gc time)\n",
      "elapsed time (ns): 33765248\n",
      "gc time (ns):      6101246\n",
      "bytes allocated:   8016528\n",
      "pool allocs:       6\n",
      "non-pool GC allocs:2\n",
      "malloc() calls:    1\n",
      "GC pauses:         1\n"
     ]
    },
    {
     "data": {
      "text/plain": [
       "1000-element Array{Float64,1}:\n",
       "   9.843044361214112 \n",
       " -54.62958430080234  \n",
       "  30.271277799863412 \n",
       " -56.04912766403708  \n",
       "   7.0959109299670935\n",
       " -19.771966504781922 \n",
       "  18.22904669015719  \n",
       " -44.38813892910057  \n",
       "  27.329050709547673 \n",
       "  13.8085444626789   \n",
       " -39.761464272136216 \n",
       "  13.170881081885533 \n",
       "  14.463229828672562 \n",
       "   ⋮                 \n",
       "   5.102772480116919 \n",
       "   7.555867732116547 \n",
       "  36.38978315808972  \n",
       " -18.26858872157535  \n",
       " -15.148950385884707 \n",
       "  13.44618309848701  \n",
       "  36.32153444691955  \n",
       "  41.05109415852428  \n",
       " -40.82004123121149  \n",
       "   3.6105809986481825\n",
       " -35.7227369092701   \n",
       "   2.441544816170492 "
      ]
     },
     "execution_count": 12,
     "metadata": {},
     "output_type": "execute_result"
    }
   ],
   "source": [
    "@timev original_matrix \\ vector_b2"
   ]
  },
  {
   "cell_type": "code",
   "execution_count": 13,
   "metadata": {},
   "outputs": [
    {
     "name": "stdout",
     "output_type": "stream",
     "text": [
      "  0.005622 seconds (4.00 k allocations: 15.826 MiB)\n",
      "elapsed time (ns): 5622384\n",
      "bytes allocated:   16595232\n",
      "pool allocs:       980\n",
      "non-pool GC allocs:3022\n"
     ]
    },
    {
     "data": {
      "text/plain": [
       "1000-element Array{Float64,1}:\n",
       "   9.843044361111952 \n",
       " -54.62958430027231  \n",
       "  30.271277799561823 \n",
       " -56.04912766348316  \n",
       "   7.095910929896066 \n",
       " -19.77196650458495  \n",
       "  18.229046689983225 \n",
       " -44.38813892866666  \n",
       "  27.329050709274846 \n",
       "  13.808544462552842 \n",
       " -39.761464271751116 \n",
       "  13.170881081749698 \n",
       "  14.46322982852768  \n",
       "   ⋮                 \n",
       "   5.102772480063737 \n",
       "   7.555867732044175 \n",
       "  36.38978315772591  \n",
       " -18.268588721392696 \n",
       " -15.148950385736352 \n",
       "  13.446183098357842 \n",
       "  36.32153444656727  \n",
       "  41.051094158123334 \n",
       " -40.820041230818674 \n",
       "   3.610580998620182 \n",
       " -35.722736908910974 \n",
       "   2.4415448161515094"
      ]
     },
     "execution_count": 13,
     "metadata": {},
     "output_type": "execute_result"
    }
   ],
   "source": [
    "@timev luPivotSolve(M,vector_b2,seq)"
   ]
  },
  {
   "cell_type": "markdown",
   "metadata": {},
   "source": [
    "   ### Conclusion: left division \\ of julia is much faster than the total time of luPivotDecompose and luPivotSolve. But if we have got the LU matrix and sequence of the permutation of the rows. Then we could use the luPivotSolve function to get the x faster than left division \\ of julia with different vector_b. Thus the elimination phase take up most of the time in the process."
   ]
  },
  {
   "cell_type": "code",
   "execution_count": null,
   "metadata": {},
   "outputs": [],
   "source": []
  }
 ],
 "metadata": {
  "kernelspec": {
   "display_name": "Julia 1.2.0",
   "language": "julia",
   "name": "julia-1.2"
  },
  "language_info": {
   "file_extension": ".jl",
   "mimetype": "application/julia",
   "name": "julia",
   "version": "1.2.0"
  }
 },
 "nbformat": 4,
 "nbformat_minor": 2
}
